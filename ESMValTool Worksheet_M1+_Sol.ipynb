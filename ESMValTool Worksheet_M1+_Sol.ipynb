{
 "cells": [
  {
   "cell_type": "markdown",
   "metadata": {},
   "source": [
    "# ARCDAP-3 ESMValTool Worksheet \n",
    "\n",
    "---\n",
    "## Module 1+ (Solutions)\n",
    "\n",
    "---"
   ]
  },
  {
   "cell_type": "code",
   "execution_count": null,
   "metadata": {},
   "outputs": [],
   "source": [
    "# created by Gerald on 20 Jan 2020\n",
    "\n",
    "# copy & paste the ESM_Worksheets folder into the ~/ESMValtool/ directory and open it there."
   ]
  },
  {
   "cell_type": "markdown",
   "metadata": {},
   "source": [
    "Welcome to Module 1+ of the ESMValTool Worksheet designed for the hands-on sessions during the ARCDAP-3 workshop. Module 1+ will cover CMORizing an observation/reanalysis dataset into a CF/CMOR-compliant file that can be read by ESMValTool. Please only start this worksheet after you've completed Module 1. "
   ]
  },
  {
   "cell_type": "markdown",
   "metadata": {},
   "source": [
    "Enter your details in the cell below:"
   ]
  },
  {
   "cell_type": "code",
   "execution_count": null,
   "metadata": {},
   "outputs": [],
   "source": [
    "# Name: \n",
    "# Organisation: \n",
    "# GCMs used: "
   ]
  },
  {
   "cell_type": "code",
   "execution_count": 2,
   "metadata": {},
   "outputs": [],
   "source": [
    "#imports \n",
    "\n",
    "import numpy as np\n",
    "import scipy as sp\n",
    "import xarray as xr\n",
    "\n",
    "from IPython.display import Image, display\n",
    "\n",
    "import fnmatch # find match\n",
    "\n",
    "import glob\n",
    "from pprint import pprint\n",
    "from pathlib import Path"
   ]
  },
  {
   "cell_type": "markdown",
   "metadata": {},
   "source": [
    "## Task 1+: CMORizing a Raw Observation file  \n",
    "---"
   ]
  },
  {
   "cell_type": "markdown",
   "metadata": {},
   "source": [
    "**Data and Scripts needed:** <br>\n",
    "Raw Observation output: <br>\n",
    "- 1x HadISST (*HadISST_sst.nc*) <br>\n",
    "- Variables: ts/SST <br>\n",
    "- Frequency: Monthly mean <br>\n",
    "\n",
    "Script: */home/arcdap/miniconda3/envs/esmvaltool/lib/python3.7/site-packages/esmvaltool/cmorizers/obs/cmorize_obs_hadisst.ncl*\n",
    "\n",
    "---"
   ]
  },
  {
   "cell_type": "markdown",
   "metadata": {},
   "source": [
    "ESMValTool accepts input data from various models as well as observations and reanalysis data, provided that they adhere to the Climate and Forecast (CF)/ Climate Model Output Rewriter (CMOR) format. Observational and reanalysis products in the standard CF/CMOR format used in CMIP and required by the ESMValTool are available via the [obs4mips](https://esgf-node.llnl.gov/projects/obs4mips/) and [ana4mips](https://esgf.nccs.nasa.gov/projects/ana4mips/) proejcts, respectively. \n",
    "\n",
    "To process datasets that are not available in these archives, they can first be obtained by the user from the respective sources and thenreformatted to the CF/CMOR standard using the cmorizers included in the ESMValTool. The cmorizers are dataset-specific scripts that can be run once to generate a local pool of observational datasets for usage with the ESMValTool. For more info see [Acquiring Input Data](https://esmvaltool.readthedocs.io/en/latest/getting_started/inputdata.html)"
   ]
  },
  {
   "cell_type": "markdown",
   "metadata": {},
   "source": [
    "The ERA-Interim files that you downloaded have already been CMORized, hence they were stored in the *~/Obs* folder in Module 1, Task 0. Raw Observations (non-CMORized) like the *HadISST_sst.nc* file you downloaded are typically placed in a different folder (e.g. *~/RawObs*) to avoid confusion. This task will go through the process of CMORizing a raw observation file into one that can be read by ESMValTool. "
   ]
  },
  {
   "cell_type": "markdown",
   "metadata": {},
   "source": [
    "### T1+.1. Open and inspect the HadISST CMORizing script "
   ]
  },
  {
   "cell_type": "markdown",
   "metadata": {},
   "source": [
    "As mentioned above, CMORizers are dataset-specific scripts which typically provide information on what raw observation data files to download and how to name them, etc. It is important to understand what each script needs from the user (you) as this may differ between different datasets. "
   ]
  },
  {
   "cell_type": "code",
   "execution_count": null,
   "metadata": {},
   "outputs": [],
   "source": [
    "!geany /home/arcdap/miniconda3/envs/esmvaltool/lib/python3.7/site-packages/esmvaltool/cmorizers/obs/cmorize_obs_hadisst.ncl"
   ]
  },
  {
   "cell_type": "markdown",
   "metadata": {},
   "source": [
    "1. You should see the ```Downloading and processing instructions``` on line 14-15. For this exercise you've already been provided with the unzipped .nc file and stored it in the *~/RawObs/Tier2/HadISST* directory which you did in Module 1. No renaming of the file names is needed."
   ]
  },
  {
   "cell_type": "markdown",
   "metadata": {},
   "source": [
    "2. Scroll down and you'll see that there are options to declare the period of data and selected variables you wish to CMORIze. You can see in line 42 that the ```standard name``` refers to the variable names in the CF/CMOR convention used by CMIP models. ```Name in raw data``` are then simply what the variables are natively called by the raw dataset itself. "
   ]
  },
  {
   "cell_type": "markdown",
   "metadata": {},
   "source": [
    "### T1+.2. Edit the HadISST CMORizer script"
   ]
  },
  {
   "cell_type": "markdown",
   "metadata": {},
   "source": [
    "1. For this particular script, the default lines 43, 46, 49, 52 are such that the script will search for HadISST data files of the ```sst``` and ```ice``` variables and CMORize them. Since we do not have the *HadISST_ice.nc* dataset for this exercise, we have to edit the code such that it only searches for the *HadISST_sst.nc* file. To do so, remove ```\"sic\"``` from ```VAR``` in line 43 and likewise for its corresponding arguments in lines 46, 49 and 52. Save your recipe file when done.\n",
    "\n",
    "*Alternatively you can comment out these lines in NCL (NCAR Command Language) using a semicolon ```;```.*"
   ]
  },
  {
   "cell_type": "markdown",
   "metadata": {},
   "source": [
    "<img src='Images/HadISST_cmor.jpg'>"
   ]
  },
  {
   "cell_type": "markdown",
   "metadata": {},
   "source": [
    "### T1+.3. CMORize the HadISST data"
   ]
  },
  {
   "cell_type": "markdown",
   "metadata": {},
   "source": [
    "1. Run the CMORizer script for HadISST in the cell below: "
   ]
  },
  {
   "cell_type": "code",
   "execution_count": null,
   "metadata": {},
   "outputs": [],
   "source": [
    "!  cmorize_obs -c config-user-example.yml -o HadISST"
   ]
  },
  {
   "cell_type": "markdown",
   "metadata": {},
   "source": [
    "*Note how you only have to specify the name of the raw observation/reanalysis dataset in the second (-o) argument for the cmorize_obs programme.*"
   ]
  },
  {
   "cell_type": "markdown",
   "metadata": {},
   "source": [
    "2. Navigate again to the directory containing the CMORizer output."
   ]
  },
  {
   "cell_type": "code",
   "execution_count": 2,
   "metadata": {},
   "outputs": [
    {
     "name": "stdout",
     "output_type": "stream",
     "text": [
      "cmorize_obs_20200120_084210\n",
      "recipe_cvdp_20191213_172749\n",
      "recipe_cvdp_20191213_173441\n",
      "recipe_cvdp_20191214_122333\n",
      "recipe_cvdp_20200116_075447\n",
      "recipe_python_20200117_070100\n",
      "recipe_validation_CMIP6_20191213_221918\n",
      "recipe_validation_CMIP6_20191214_022739\n",
      "recipe_validation_CMIP6_20191214_023144\n",
      "recipe_validation_CMIP6_20191215_230454\n",
      "recipe_validation_CMIP6_20191215_230902\n",
      "recipe_validation_CMIP6_20191216_044746_INDOPAC\n",
      "recipe_validation_CMIP6_20191216_071113\n",
      "recipe_validation_CMIP6_20191216_071431\n",
      "recipe_validation_CMIP6_20191216_073610\n",
      "recipe_validation_CMIP6_20191216_074228\n",
      "recipe_validation_CMIP6_20191216_092147\n",
      "recipe_validation_CMIP6_20191216_095212\n",
      "recipe_validation_CMIP6_20191216_101648\n",
      "recipe_validation_CMIP6_20200116_031243\n",
      "recipe_validation_CMIP6_20200120_053308\n",
      "recipe_validation_CMIP6_20200120_060603\n"
     ]
    }
   ],
   "source": [
    "# Insert output directory\n",
    "! ls esmvaltool_output/"
   ]
  },
  {
   "cell_type": "markdown",
   "metadata": {},
   "source": [
    "4. The output for your CMORizer script will be stored in a sub-directory structured as *cmorize_obs _ [YYYYMMDD] _ [HHMMSS]*. Use the code below to inspect the output .nc files that have been CMORized. "
   ]
  },
  {
   "cell_type": "code",
   "execution_count": 4,
   "metadata": {},
   "outputs": [
    {
     "name": "stdout",
     "output_type": "stream",
     "text": [
      "['/home/arcdap/ESMValTool/esmvaltool_output/cmorize_obs_20200120_101538/Tier2/HadISST/OBS_HadISST_reanaly_1_Amon_ts_187001-201712.nc',\n",
      " '/home/arcdap/ESMValTool/esmvaltool_output/cmorize_obs_20200120_101538/Tier2/HadISST/OBS_HadISST_reanaly_1_Omon_tos_187001-201712.nc']\n"
     ]
    }
   ],
   "source": [
    "home = str(Path.home())  #Your home directory\n",
    "\n",
    "# Insert the sub-folder containing the cmorizer output into the ''\n",
    "# e.g. dirname1='cmorize_obs_20200117_070100'\n",
    "dirname1='cmorize_obs_20200120_101538';  \n",
    "# Full path of the folder containing the plots produced by the recipe \n",
    "dirname=home+'/ESMValTool/esmvaltool_output/'+ dirname1 +'/Tier2/HadISST/';\n",
    "\n",
    "# List of .png image files in the dirname directory\n",
    "listing = glob.glob(dirname+'*.nc')\n",
    "\n",
    "pprint(listing)"
   ]
  },
  {
   "cell_type": "markdown",
   "metadata": {},
   "source": [
    "You'll see that the output files follow the naming convention ```OBS_[dataset]_[type]_[version]_[mip]_[short_name]_YYYYMM_YYYYMM.nc```, where type may be sat (satellite data), reanaly (reanalysis data), ground (ground observations), clim (derived climatologies), campaign (aircraft campaign). The file names may already be familiar from the CMORized ERA-Interim files that you downloaded (which have the ```OBS6``` tag instead). "
   ]
  },
  {
   "cell_type": "markdown",
   "metadata": {},
   "source": [
    "### T1+.4. Inspect the CMORized HadISST.nc files"
   ]
  },
  {
   "cell_type": "markdown",
   "metadata": {},
   "source": [
    "1. Use the xarray library to open and inspect the 'ts' dataset. "
   ]
  },
  {
   "cell_type": "code",
   "execution_count": 5,
   "metadata": {},
   "outputs": [
    {
     "data": {
      "text/html": [
       "<pre>&lt;xarray.Dataset&gt;\n",
       "Dimensions:    (bnds: 2, lat: 180, lon: 360, time: 1776)\n",
       "Coordinates:\n",
       "  * time       (time) datetime64[ns] 1870-01-16T12:00:00 ... 2017-12-16T12:00:00\n",
       "  * lat        (lat) float64 -89.5 -88.5 -87.5 -86.5 ... 86.5 87.5 88.5 89.5\n",
       "  * lon        (lon) float64 0.5 1.5 2.5 3.5 4.5 ... 356.5 357.5 358.5 359.5\n",
       "Dimensions without coordinates: bnds\n",
       "Data variables:\n",
       "    time_bnds  (time, bnds) datetime64[ns] ...\n",
       "    lat_bnds   (lat, bnds) float64 ...\n",
       "    lon_bnds   (lon, bnds) float64 ...\n",
       "    ts         (time, lat, lon) float32 ...\n",
       "Attributes:\n",
       "    title:        HadISST data reformatted for the ESMValTool v2.0\n",
       "    tier:         2\n",
       "    source:       http://www.metoffice.gov.uk/hadobs/hadisst/data/download.html\n",
       "    reference:    Rayner et al., J. Geophys. Res., doi:10.1029/2002JD002670, ...\n",
       "    user:         arcdap\n",
       "    host:         antix1\n",
       "    history:      Created on Mon Jan 20 18:15:51 +08 2020\n",
       "    conventions:  CF/CMOR</pre>"
      ],
      "text/plain": [
       "<xarray.Dataset>\n",
       "Dimensions:    (bnds: 2, lat: 180, lon: 360, time: 1776)\n",
       "Coordinates:\n",
       "  * time       (time) datetime64[ns] 1870-01-16T12:00:00 ... 2017-12-16T12:00:00\n",
       "  * lat        (lat) float64 -89.5 -88.5 -87.5 -86.5 ... 86.5 87.5 88.5 89.5\n",
       "  * lon        (lon) float64 0.5 1.5 2.5 3.5 4.5 ... 356.5 357.5 358.5 359.5\n",
       "Dimensions without coordinates: bnds\n",
       "Data variables:\n",
       "    time_bnds  (time, bnds) datetime64[ns] ...\n",
       "    lat_bnds   (lat, bnds) float64 ...\n",
       "    lon_bnds   (lon, bnds) float64 ...\n",
       "    ts         (time, lat, lon) float32 ...\n",
       "Attributes:\n",
       "    title:        HadISST data reformatted for the ESMValTool v2.0\n",
       "    tier:         2\n",
       "    source:       http://www.metoffice.gov.uk/hadobs/hadisst/data/download.html\n",
       "    reference:    Rayner et al., J. Geophys. Res., doi:10.1029/2002JD002670, ...\n",
       "    user:         arcdap\n",
       "    host:         antix1\n",
       "    history:      Created on Mon Jan 20 18:15:51 +08 2020\n",
       "    conventions:  CF/CMOR"
      ]
     },
     "execution_count": 5,
     "metadata": {},
     "output_type": "execute_result"
    }
   ],
   "source": [
    "# Insert in the quotations the file path of the CMORized .nc file \n",
    "xr.open_dataset(\"/home/arcdap/ESMValTool/esmvaltool_output/cmorize_obs_20200120_101538/Tier2/HadISST/OBS_HadISST_reanaly_1_Amon_ts_187001-201712.nc\")"
   ]
  },
  {
   "cell_type": "markdown",
   "metadata": {},
   "source": [
    "2. Compare this against the raw dataset. Comment on some differences you observe between the raw and CMORized data files. "
   ]
  },
  {
   "cell_type": "code",
   "execution_count": 17,
   "metadata": {},
   "outputs": [
    {
     "data": {
      "text/html": [
       "<pre>&lt;xarray.Dataset&gt;\n",
       "Dimensions:    (latitude: 180, longitude: 360, nv: 2, time: 1798)\n",
       "Coordinates:\n",
       "  * time       (time) datetime64[ns] 1870-01-16T11:59:59.505615234 ... 2019-10-16T12:00:00\n",
       "  * latitude   (latitude) float32 89.5 88.5 87.5 86.5 ... -87.5 -88.5 -89.5\n",
       "  * longitude  (longitude) float32 -179.5 -178.5 -177.5 ... 177.5 178.5 179.5\n",
       "Dimensions without coordinates: nv\n",
       "Data variables:\n",
       "    time_bnds  (time, nv) float32 ...\n",
       "    sst        (time, latitude, longitude) float32 ...\n",
       "Attributes:\n",
       "    Title:                      Monthly version of HadISST sea surface temper...\n",
       "    description:                HadISST 1.1 monthly average sea surface tempe...\n",
       "    institution:                Met Office Hadley Centre\n",
       "    source:                     HadISST\n",
       "    reference:                  Rayner, N. A., Parker, D. E., Horton, E. B., ...\n",
       "    Conventions:                CF-1.0\n",
       "    history:                    9/12/2019 converted to netcdf from pp format\n",
       "    supplementary_information:  Updates and supplementary information will be...\n",
       "    comment:                    Data restrictions: for academic research use ...</pre>"
      ],
      "text/plain": [
       "<xarray.Dataset>\n",
       "Dimensions:    (latitude: 180, longitude: 360, nv: 2, time: 1798)\n",
       "Coordinates:\n",
       "  * time       (time) datetime64[ns] 1870-01-16T11:59:59.505615234 ... 2019-10-16T12:00:00\n",
       "  * latitude   (latitude) float32 89.5 88.5 87.5 86.5 ... -87.5 -88.5 -89.5\n",
       "  * longitude  (longitude) float32 -179.5 -178.5 -177.5 ... 177.5 178.5 179.5\n",
       "Dimensions without coordinates: nv\n",
       "Data variables:\n",
       "    time_bnds  (time, nv) float32 ...\n",
       "    sst        (time, latitude, longitude) float32 ...\n",
       "Attributes:\n",
       "    Title:                      Monthly version of HadISST sea surface temper...\n",
       "    description:                HadISST 1.1 monthly average sea surface tempe...\n",
       "    institution:                Met Office Hadley Centre\n",
       "    source:                     HadISST\n",
       "    reference:                  Rayner, N. A., Parker, D. E., Horton, E. B., ...\n",
       "    Conventions:                CF-1.0\n",
       "    history:                    9/12/2019 converted to netcdf from pp format\n",
       "    supplementary_information:  Updates and supplementary information will be...\n",
       "    comment:                    Data restrictions: for academic research use ..."
      ]
     },
     "execution_count": 17,
     "metadata": {},
     "output_type": "execute_result"
    }
   ],
   "source": [
    "# Insert in the quotations the file path of the raw .nc file \n",
    "xr.open_dataset(\"/home/arcdap/RawObs/Tier2/HadISST/HadISST_sst.nc\")"
   ]
  },
  {
   "cell_type": "markdown",
   "metadata": {},
   "source": [
    "**Comments:**"
   ]
  },
  {
   "cell_type": "markdown",
   "metadata": {},
   "source": []
  },
  {
   "cell_type": "markdown",
   "metadata": {},
   "source": [
    "### T1+.5. Plot the global mean SST from 1979 to 2014 from the HadISST dataset"
   ]
  },
  {
   "cell_type": "markdown",
   "metadata": {},
   "source": [
    "1. You'll use the same *recipe_python.yml* that you used in Module 1. However, the first thing you need to do is to move your CMORized HadISST .nc files to the */Obs* directory. Remember that was where you set the path for OBS files in the *config-user-example.yml* file, and that your CMORized output is currently in the *esmvaltool_output* directory. "
   ]
  },
  {
   "cell_type": "code",
   "execution_count": 20,
   "metadata": {},
   "outputs": [],
   "source": [
    "# Use this command to move the entire 'Tier2' folder in the cmorizer \n",
    "# output directory to the ~/Obs directory \n",
    "# Insert your output directory in between esmvaltool_output/  and  /Tier2\n",
    "! mv esmvaltool_output/cmorize_obs_20200120_101538/Tier2/HadISST /home/arcdap/Obs/Tier2"
   ]
  },
  {
   "cell_type": "markdown",
   "metadata": {},
   "source": [
    "2. Check that the files have been successfully moved and are in the right directory. "
   ]
  },
  {
   "cell_type": "code",
   "execution_count": 21,
   "metadata": {},
   "outputs": [
    {
     "name": "stdout",
     "output_type": "stream",
     "text": [
      "OBS_HadISST_reanaly_1_Amon_ts_187001-201712.nc\n",
      "OBS_HadISST_reanaly_1_Omon_tos_187001-201712.nc\n"
     ]
    }
   ],
   "source": [
    "! ls ~/Obs/Tier2/HadISST"
   ]
  },
  {
   "cell_type": "markdown",
   "metadata": {},
   "source": [
    "Now modify the *recipe_python.yml* file from Module 1 to plot the mean ts from 1979 to 2014. \n",
    "\n",
    "3. First thing to do is to edit the ```datasets``` section to include only the HadISST data. Observation/Reanalysis datasets are specified slightly different than Models here due to the different \"keys\" used in the naming convention. For the HadISST data, the entry under ```datasets```  would be: \n",
    "\n",
    "\n",
    "```- {dataset: HadISST,  project: OBS, mip: Amon, type: reanaly,  version: 1,  start_year: 1979,  end_year: 2014,  tier: 2}```"
   ]
  },
  {
   "cell_type": "markdown",
   "metadata": {},
   "source": [
    "4. Next thing to modify is the variables, replace the lines \n",
    "\n",
    "```ta:\n",
    "    preprocessor: preprocessor1\n",
    "pr:```\n",
    "\n",
    "with simply\n",
    "\n",
    "``` ts:```"
   ]
  },
  {
   "cell_type": "markdown",
   "metadata": {},
   "source": [
    "5. Run the recipe in the cell below! "
   ]
  },
  {
   "cell_type": "code",
   "execution_count": null,
   "metadata": {},
   "outputs": [],
   "source": [
    "# Type in the esmvaltool recipe to run after the config-user-example\n",
    "# file.  \n",
    "! esmvaltool -c config-user-example.yml "
   ]
  },
  {
   "cell_type": "markdown",
   "metadata": {},
   "source": [
    "6. Once successful, navigate again to the relevant output directory and plot the mean sea surface temperature (ts) from 1979 to 2014 for the HadISST datasset. "
   ]
  },
  {
   "cell_type": "code",
   "execution_count": 27,
   "metadata": {},
   "outputs": [
    {
     "name": "stdout",
     "output_type": "stream",
     "text": [
      "cmorize_obs_20200120_101538\n",
      "recipe_cvdp_20191213_172749\n",
      "recipe_cvdp_20191213_173441\n",
      "recipe_cvdp_20191214_122333\n",
      "recipe_cvdp_20200116_075447\n",
      "recipe_python_20200117_070100\n",
      "recipe_python_20200120_104618\n",
      "recipe_validation_CMIP6_20191213_221918\n",
      "recipe_validation_CMIP6_20191214_022739\n",
      "recipe_validation_CMIP6_20191214_023144\n",
      "recipe_validation_CMIP6_20191215_230454\n",
      "recipe_validation_CMIP6_20191215_230902\n",
      "recipe_validation_CMIP6_20191216_044746_INDOPAC\n",
      "recipe_validation_CMIP6_20191216_071113\n",
      "recipe_validation_CMIP6_20191216_071431\n",
      "recipe_validation_CMIP6_20191216_073610\n",
      "recipe_validation_CMIP6_20191216_074228\n",
      "recipe_validation_CMIP6_20191216_092147\n",
      "recipe_validation_CMIP6_20191216_095212\n",
      "recipe_validation_CMIP6_20191216_101648\n",
      "recipe_validation_CMIP6_20200116_031243\n",
      "recipe_validation_CMIP6_20200120_053308\n",
      "recipe_validation_CMIP6_20200120_060603\n"
     ]
    }
   ],
   "source": [
    "! ls esmvaltool_output/ "
   ]
  },
  {
   "cell_type": "code",
   "execution_count": 36,
   "metadata": {},
   "outputs": [
    {
     "name": "stdout",
     "output_type": "stream",
     "text": [
      "['/home/arcdap/ESMValTool/esmvaltool_output/recipe_python_20200120_104618/plots/diagnostic1/script1/OBS_HadISST_reanaly_1_Amon_ts_1979-2014_mean.png']\n"
     ]
    }
   ],
   "source": [
    "# Insert the sub-folder containing the recipe output into the ''\n",
    "# e.g. dirname2='recipe_python_20200117_070100'\n",
    "dirname2='recipe_python_20200120_104618';  \n",
    "# Full path of the folder containing the plots produced by the recipe \n",
    "dirname3=home+'/ESMValTool/esmvaltool_output/'+ dirname2 +'/plots/diagnostic1/script1/';\n",
    "\n",
    "# List of .png image files in the dirname directory\n",
    "listing2 = glob.glob(dirname3+'*.png')\n",
    "\n",
    "pprint(listing2)"
   ]
  },
  {
   "cell_type": "code",
   "execution_count": 32,
   "metadata": {},
   "outputs": [
    {
     "data": {
      "image/png": "[encoded data removed]",
      "text/plain": [
       "<IPython.core.display.Image object>"
      ]
     },
     "metadata": {},
     "output_type": "display_data"
    }
   ],
   "source": [
    "# Display the plot .png file \n",
    "display(Image(listing2[0]))"
   ]
  },
  {
   "cell_type": "markdown",
   "metadata": {},
   "source": [
    "---"
   ]
  },
  {
   "cell_type": "code",
   "execution_count": null,
   "metadata": {},
   "outputs": [],
   "source": [
    "# end of file, Gerald, last edited 21/1/2020."
   ]
  }
 ],
 "metadata": {
  "kernelspec": {
   "display_name": "Python 3",
   "language": "python",
   "name": "python3"
  },
  "language_info": {
   "codemirror_mode": {
    "name": "ipython",
    "version": 3
   },
   "file_extension": ".py",
   "mimetype": "text/x-python",
   "name": "python",
   "nbconvert_exporter": "python",
   "pygments_lexer": "ipython3",
   "version": "3.7.3"
  }
 },
 "nbformat": 4,
 "nbformat_minor": 4
}
