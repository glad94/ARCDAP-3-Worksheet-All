{
 "cells": [
  {
   "cell_type": "markdown",
   "metadata": {},
   "source": [
    "# ARCDAP-3 ESMValTool Worksheet \n",
    "\n",
    "---\n",
    "## Module 3\n",
    "---"
   ]
  },
  {
   "cell_type": "code",
   "execution_count": null,
   "metadata": {},
   "outputs": [],
   "source": [
    "# created by Gerald on 17 Jan 2020\n",
    "\n",
    "# copy & paste the ESM_Worksheets folder into the ~/ESMValtool/ directory and open it there."
   ]
  },
  {
   "cell_type": "markdown",
   "metadata": {},
   "source": [
    "Welcome to Module 3 of the ESMValTool Worksheet designed for the hands-on sessions during the ARCDAP-3 workshop. Module 3 will involve running the Climate Variability Diagnostics Package (CVDP) via ESMValTool to evaluate certain ENSO metrics. Please only start this worksheet after you've completed Module 1, 1+ and 2. "
   ]
  },
  {
   "cell_type": "markdown",
   "metadata": {},
   "source": [
    "Enter your details in the cell below:"
   ]
  },
  {
   "cell_type": "code",
   "execution_count": null,
   "metadata": {},
   "outputs": [],
   "source": [
    "# Name: \n",
    "# Organisation: \n",
    "# GCMs used: "
   ]
  },
  {
   "cell_type": "code",
   "execution_count": null,
   "metadata": {},
   "outputs": [],
   "source": [
    "#imports \n",
    "\n",
    "import numpy as np\n",
    "import scipy as sp\n",
    "import xarray as xr\n",
    "\n",
    "from IPython.display import Image, display\n",
    "\n",
    "import fnmatch # find match\n",
    "\n",
    "import glob\n",
    "from pprint import pprint\n",
    "from pathlib import Path"
   ]
  },
  {
   "cell_type": "markdown",
   "metadata": {},
   "source": [
    "## Task 3. Climate Processes: ENSO and IOD"
   ]
  },
  {
   "cell_type": "markdown",
   "metadata": {},
   "source": [
    "--- \n",
    "**Data and Scripts needed:** <br>\n",
    "Model and Observation output: <br>\n",
    "- 2 x CMIP6 Models + 1 x ERA-Interim <br>\n",
    "- CMIP experiment: historical <br>\n",
    "- Variables: tas, ts, pr, psl <br>\n",
    "- Frequency: Monthly mean <br>\n",
    "\n",
    "Recipe: *~/ESMValTool/esmvaltool/recipes/recipe_cvdp.yml* <br>\n",
    "Script: *~/miniconda3/envs/esmvaltool/lib/python 3.7/site-packages/esmvaltool/diag_scripts/cvdp/cvdp/driver.ncl*\n",
    "\n",
    "---"
   ]
  },
  {
   "cell_type": "markdown",
   "metadata": {},
   "source": [
    "We now move on to using ESMValTool for the evaluation of important climate processes in GCMs. Of great importance to the ASEAN region are the El Nino Southern Oscillation (ENSO) and the Indian Ocean Dipole (IOD), generally characterised by irregularly periodic oscillations in sea-surface temperatures (SSTs) that cause anomalous variations in temperature and precipitation over the region. \n",
    "\n",
    "This exercise will involve the use of the Climate Variability Diagnostics Package (CVDP), an analysis tool that documents major modes of climate variability such as ENSO, Northern and Southern Annular Modes (NAO/SAO) which has been ported to ESMValTool for use via the same recipe structure. You can read more about this recipe [here](https://esmvaltool.readthedocs.io/en/latest/recipes/recipe_cvdp.html). You will, by the end of this exercise, plotted and calculated trends in ENSO indices such as Nino 3, 3.4, 4 and the IOD and SST metrics from your assigned CMIP GCMs. "
   ]
  },
  {
   "cell_type": "markdown",
   "metadata": {},
   "source": [
    "### T3.1. Configure the *recipe_cvdp.yml* file "
   ]
  },
  {
   "cell_type": "markdown",
   "metadata": {},
   "source": [
    "CVDP is a relatively powerful ESMValTool recipe that generates a large number of files and plots. The first tasks will involve configuring the recipe and diagnostic script (written in NCL) so that the recipe evaluates only the climate processes that we want *(this is also to prevent an overly-long programme run time)*. \n"
   ]
  },
  {
   "cell_type": "markdown",
   "metadata": {},
   "source": [
    "1. Inspect and edit this recipe yml’s file which is found in the same *~/ESMValTool/esmvaltool/recipes* folder to correctly include your assigned CMIP6 models and ERA-Interim. Set the start and end years to 1979 and 2014 respectively. Recall that CMIP6 output files have an additional \"grid\" key and remember that you can find information about the required \"keys\" in the .nc file names (see \"Instructions\" from Module 1). Your ERA-Interim data should be declared as: \n",
    "\n",
    "     ```- {dataset: ERA-Interim,  project: OBS6,  type: reanaly,  version: 1,  start_year: 1979,  end_year: 2014,  tier: 3}```"
   ]
  },
  {
   "cell_type": "markdown",
   "metadata": {},
   "source": [
    "2. Add the highlighted lines below the ```datasets``` to regrid the data to a common 1.5x1.5 grid. Also add the line ```preprocessor: pp_rad``` below ```mip: Amon``` where the variables are declared. "
   ]
  },
  {
   "cell_type": "markdown",
   "metadata": {},
   "source": [
    "<img src='Images/cvdp_mod_recipe.jpg' width=\"300\">"
   ]
  },
  {
   "cell_type": "markdown",
   "metadata": {},
   "source": [
    "### T3.2. Configure the diagnostic *cvdp_wrapper.py* script"
   ]
  },
  {
   "cell_type": "markdown",
   "metadata": {},
   "source": [
    "1. Next, open the *~/miniconda3/envs/esmvaltool/lib/python 3.7/site-packages/esmvaltool/diag_scripts/cvdp/cvdp/driver.ncl* file. This is part of the CVDP code itself that's written in NCL. This driver script is where one can configure user-adjustable options for the CVDP. You can read more about CVDP in its [documentation](http://www.cesm.ucar.edu/working_groups/CVC/cvdp/files/CVDP_readme_v500.pdf). "
   ]
  },
  {
   "cell_type": "code",
   "execution_count": null,
   "metadata": {},
   "outputs": [],
   "source": [
    "# Insert the required file \n",
    "!geany "
   ]
  },
  {
   "cell_type": "markdown",
   "metadata": {},
   "source": [
    "You’d first want to configure the CVDP such that it does not run all CVDP scripts (which is the default setting). Doing so can take over an hour of computation time for just one model! "
   ]
  },
  {
   "cell_type": "markdown",
   "metadata": {},
   "source": [
    "2. To turn this option off, scroll down to under ```---Advanced Options----------``` and change the option for ```modular``` (line 58) from ```\"False\"``` to ```\"True\"```.  \n",
    "3. The option directly below, ```modular_list```, allows you to state which CVDP scripts you wish to run, e.g. the default scripts are ```“pdo, aice.trends_timeseries, sst.indices”```. For the list of available scripts, scroll down to line 72 (```complete_list```). As we’re only interested in the SST diagnostics for this exercise, select the scripts with ```“sst”``` in them such that your line 61 should say: "
   ]
  },
  {
   "cell_type": "markdown",
   "metadata": {},
   "source": [
    "```modular_list = “sst.indices, sst.mean_stddev, sst.trends_timeseries” ;``` ...(other extra unchanged code)"
   ]
  },
  {
   "cell_type": "markdown",
   "metadata": {},
   "source": [
    "You’re now set to run CVDP in ESMValTool! "
   ]
  },
  {
   "cell_type": "markdown",
   "metadata": {},
   "source": [
    "### T3.3. Create plots of your SST, ENSO and IOD metrics using ESMValTool"
   ]
  },
  {
   "cell_type": "markdown",
   "metadata": {},
   "source": [
    "1. Run the *recipe_cvdp.yml* script in the code cell as before. (This programme with the modified *driver.ncl* file should take anywhere between a few - 20 minutes to complete depending on your laptop speed, but check occasionally if any errors occur) "
   ]
  },
  {
   "cell_type": "code",
   "execution_count": null,
   "metadata": {},
   "outputs": [],
   "source": [
    "# Insert the code to run the cvdp recipe here \n"
   ]
  },
  {
   "cell_type": "markdown",
   "metadata": {},
   "source": [
    "2. Upon the completion of the ESMValTool programme, navigate to this programme’s output folder and then to the */work* sub-folder. You should see all the plots that CVDP has produced along with some provenance files (not important for this exercise). You will analyse these plots in the following questions.  (Note that the CVDP's plots being saved to the */work* is just a known flaw in the current ESMValTool version)\n",
    "\n",
    "**If you are getting an empty file or listing, check that you have entered the correct directory**. "
   ]
  },
  {
   "cell_type": "code",
   "execution_count": null,
   "metadata": {},
   "outputs": [],
   "source": [
    "# List the output directory here \n"
   ]
  },
  {
   "cell_type": "markdown",
   "metadata": {},
   "source": [
    "You can list all the .png plot files generated by CVDP using the familiar code structure below:"
   ]
  },
  {
   "cell_type": "code",
   "execution_count": null,
   "metadata": {},
   "outputs": [],
   "source": [
    "home = str(Path.home())  #Your home directory\n",
    "\n",
    "# Insert the sub-folder containing the recipe output into the ''\n",
    "# e.g. dirname1='recipe_python_20200117_070100'\n",
    "dirname1='';  \n",
    "# Full path of the folder containing the plots produced by the recipe \n",
    "# Insert also the required path after dirname1 \n",
    "dirname=home+'/ESMValTool/esmvaltool_output/'+ dirname1 +'';\n",
    "\n",
    "# List of .png image files in the dirname directory\n",
    "listing = glob.glob(dirname+'*.png')\n",
    "\n",
    "pprint(listing)"
   ]
  },
  {
   "cell_type": "markdown",
   "metadata": {},
   "source": [
    "---\n",
    "### SSTs\n",
    "---"
   ]
  },
  {
   "cell_type": "markdown",
   "metadata": {},
   "source": [
    "\n",
    "### T3.4. Comparison of annual SST mean states and standard deviations\n"
   ]
  },
  {
   "cell_type": "markdown",
   "metadata": {},
   "source": [
    "1. In the list of .png files in */work*, you should be able to find the plot for the SST mean state as ***“sst.mean.ann.png”***. Display this plot in the code cell below. Compare and comment on the annual SST mean states between your models and the ERA-Interim reanalysis. "
   ]
  },
  {
   "cell_type": "code",
   "execution_count": null,
   "metadata": {},
   "outputs": [],
   "source": [
    "# Display the plots of ann mean SSTs:\n",
    "# Insert the required filename into ''\n",
    "display(Image(filename=dirname+''))"
   ]
  },
  {
   "cell_type": "markdown",
   "metadata": {},
   "source": [
    "**Comments:** "
   ]
  },
  {
   "cell_type": "markdown",
   "metadata": {},
   "source": []
  },
  {
   "cell_type": "markdown",
   "metadata": {},
   "source": [
    "2. Repeat 1. but for the SST standard deviations instead, the required file should be called ***“sst.stddev.ann.png”***. "
   ]
  },
  {
   "cell_type": "code",
   "execution_count": null,
   "metadata": {},
   "outputs": [],
   "source": [
    "# Display the plots of ann mean SSTs stddevs:\n",
    "\n",
    "display(Image(filename=dirname+''))"
   ]
  },
  {
   "cell_type": "markdown",
   "metadata": {},
   "source": [
    "**Comments:**"
   ]
  },
  {
   "cell_type": "markdown",
   "metadata": {},
   "source": []
  },
  {
   "cell_type": "markdown",
   "metadata": {},
   "source": [
    "### T3.5. Comparison of DJF SST mean states and standard deviations"
   ]
  },
  {
   "cell_type": "markdown",
   "metadata": {},
   "source": [
    "Repeat T3.4. but for the DJF mean states and standard deviations instead. The relevant files should be ***“sst.mean.djf.png”*** and ***“sst.stddev.djf.png”*** respectively. "
   ]
  },
  {
   "cell_type": "code",
   "execution_count": null,
   "metadata": {},
   "outputs": [],
   "source": [
    "# Display the plots of DJF mean SSTs:\n",
    "\n"
   ]
  },
  {
   "cell_type": "markdown",
   "metadata": {},
   "source": [
    "**Comments:**"
   ]
  },
  {
   "cell_type": "markdown",
   "metadata": {},
   "source": []
  },
  {
   "cell_type": "code",
   "execution_count": null,
   "metadata": {},
   "outputs": [],
   "source": [
    "# Display the plots of DJF mean SSTs stddevs:\n",
    "\n"
   ]
  },
  {
   "cell_type": "markdown",
   "metadata": {},
   "source": [
    "**Comments:**"
   ]
  },
  {
   "cell_type": "markdown",
   "metadata": {},
   "source": []
  },
  {
   "cell_type": "markdown",
   "metadata": {},
   "source": [
    "### T3.6. Plot the annual and DJF SST trends"
   ]
  },
  {
   "cell_type": "markdown",
   "metadata": {},
   "source": [
    "Repeat T3.4. - 3.5. but for the trends in SST over the selected period. The relevant files in /work would be ***“sst.trends.ann.png”*** and ***“sst.trends.djf.png”***. Comment on your findings. "
   ]
  },
  {
   "cell_type": "code",
   "execution_count": null,
   "metadata": {},
   "outputs": [],
   "source": [
    "# Display the plots of ann SST trend:\n",
    "\n"
   ]
  },
  {
   "cell_type": "markdown",
   "metadata": {},
   "source": [
    "**Comments:**"
   ]
  },
  {
   "cell_type": "markdown",
   "metadata": {},
   "source": []
  },
  {
   "cell_type": "code",
   "execution_count": null,
   "metadata": {},
   "outputs": [],
   "source": [
    "# Display the plots of DJF SST trend:\n",
    "\n"
   ]
  },
  {
   "cell_type": "markdown",
   "metadata": {},
   "source": [
    "**Comments:**"
   ]
  },
  {
   "cell_type": "markdown",
   "metadata": {},
   "source": []
  },
  {
   "cell_type": "markdown",
   "metadata": {},
   "source": [
    "---\n",
    "### El Nino Southern Oscillation (ENSO)\n",
    "\n",
    "---"
   ]
  },
  {
   "cell_type": "markdown",
   "metadata": {},
   "source": [
    "### T3.7. Plot the Nino 3.4, 3 and 4 time series for your GCMs and ERA-Interim"
   ]
  },
  {
   "cell_type": "markdown",
   "metadata": {},
   "source": [
    "These plots should be titled ***“nino34.timeseries.png”***, ***“nino3.timeseries.png”*** and ***“nino4.timeseries.png”***. Comment on the time series and trends (given on the top right corner of the plots). "
   ]
  },
  {
   "cell_type": "code",
   "execution_count": null,
   "metadata": {},
   "outputs": [],
   "source": [
    "#Nino3.4\n"
   ]
  },
  {
   "cell_type": "markdown",
   "metadata": {},
   "source": [
    "**Comments:**"
   ]
  },
  {
   "cell_type": "markdown",
   "metadata": {},
   "source": []
  },
  {
   "cell_type": "code",
   "execution_count": null,
   "metadata": {},
   "outputs": [],
   "source": [
    "# Nino 3\n"
   ]
  },
  {
   "cell_type": "markdown",
   "metadata": {},
   "source": [
    "**Comments:**"
   ]
  },
  {
   "cell_type": "markdown",
   "metadata": {},
   "source": []
  },
  {
   "cell_type": "code",
   "execution_count": null,
   "metadata": {},
   "outputs": [],
   "source": [
    "# Nino 4\n"
   ]
  },
  {
   "cell_type": "markdown",
   "metadata": {},
   "source": [
    "**Comments:**"
   ]
  },
  {
   "cell_type": "markdown",
   "metadata": {},
   "source": []
  },
  {
   "cell_type": "markdown",
   "metadata": {},
   "source": [
    "### T3.8. Plot the Nino 3.4 standard deviation seasonality"
   ]
  },
  {
   "cell_type": "markdown",
   "metadata": {},
   "source": [
    "The needed file is ***“nino34.monstddev.png”***. Compare and comment on your GCM’s results relative to ERA-Interim. We expect that the Nino 3.4 SD should peak around the Northern Hemisphere winter. Do you observe this seasonality? Comment on your models' results.  "
   ]
  },
  {
   "cell_type": "code",
   "execution_count": null,
   "metadata": {},
   "outputs": [],
   "source": [
    "# Nino 3.4 STD\n"
   ]
  },
  {
   "cell_type": "markdown",
   "metadata": {},
   "source": [
    "**Comments:**"
   ]
  },
  {
   "cell_type": "markdown",
   "metadata": {},
   "source": []
  },
  {
   "cell_type": "markdown",
   "metadata": {},
   "source": [
    "### T3.9. Plot the Nino 3.4 El Nino and La Nina Hovmoeller composites and comment on your results. "
   ]
  },
  {
   "cell_type": "markdown",
   "metadata": {},
   "source": [
    "1. The needed files are ***“nino34.hov.elnino.png”*** and ***“nino34.hov.lanina.png”***. "
   ]
  },
  {
   "cell_type": "code",
   "execution_count": null,
   "metadata": {},
   "outputs": [],
   "source": [
    "# Nino 3.4 El Nino Hov\n"
   ]
  },
  {
   "cell_type": "code",
   "execution_count": null,
   "metadata": {},
   "outputs": [],
   "source": [
    "# Nino 3.4 La Nina Hov\n"
   ]
  },
  {
   "cell_type": "markdown",
   "metadata": {},
   "source": []
  },
  {
   "cell_type": "markdown",
   "metadata": {},
   "source": [
    "---\n",
    "### Indian Ocean Dipole \n",
    "---"
   ]
  },
  {
   "cell_type": "markdown",
   "metadata": {},
   "source": [
    "### T3.10. Plot the IOD time series for your GCMs and ERA-Interim"
   ]
  },
  {
   "cell_type": "markdown",
   "metadata": {},
   "source": [
    "\n",
    "This plot should be titled ***“iod.timeseries.png”***. Comment on the time series and trends (given on the top right corner of the plots). "
   ]
  },
  {
   "cell_type": "code",
   "execution_count": null,
   "metadata": {},
   "outputs": [],
   "source": [
    "#IOD\n"
   ]
  },
  {
   "cell_type": "markdown",
   "metadata": {},
   "source": [
    "**Comments:**"
   ]
  },
  {
   "cell_type": "markdown",
   "metadata": {},
   "source": []
  },
  {
   "cell_type": "markdown",
   "metadata": {},
   "source": [
    "\n",
    "\n",
    "---"
   ]
  },
  {
   "cell_type": "code",
   "execution_count": null,
   "metadata": {},
   "outputs": [],
   "source": [
    "# end of file, Gerald, last edited 21/1/2020."
   ]
  }
 ],
 "metadata": {
  "kernelspec": {
   "display_name": "Python 3",
   "language": "python",
   "name": "python3"
  },
  "language_info": {
   "codemirror_mode": {
    "name": "ipython",
    "version": 3
   },
   "file_extension": ".py",
   "mimetype": "text/x-python",
   "name": "python",
   "nbconvert_exporter": "python",
   "pygments_lexer": "ipython3",
   "version": "3.7.3"
  }
 },
 "nbformat": 4,
 "nbformat_minor": 4
}
