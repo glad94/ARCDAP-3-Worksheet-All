{
 "cells": [
  {
   "cell_type": "markdown",
   "metadata": {},
   "source": [
    "# ARCDAP-3 ESMValTool Worksheet \n",
    "\n",
    "---\n",
    "## Module 1 (Solutions)\n",
    "\n",
    "---"
   ]
  },
  {
   "cell_type": "code",
   "execution_count": null,
   "metadata": {},
   "outputs": [],
   "source": [
    "# created by Gerald on 17 Jan 2020\n",
    "\n",
    "# copy & paste the ESM_Worksheets folder into the ~/ESMValtool/ directory and open it there."
   ]
  },
  {
   "cell_type": "markdown",
   "metadata": {},
   "source": [
    "Welcome to Module 1 of the ESMValTool Worksheet designed for the hands-on sessions during the ARCDAP-3 workshop. Module 1 will cover the aims and instructions for this worksheet as well the Tasks 0 and 1 of the hands-on sessions. Please complete the worksheet modules in order from 1 to 3. "
   ]
  },
  {
   "cell_type": "markdown",
   "metadata": {},
   "source": [
    "Enter your details in the cell below:"
   ]
  },
  {
   "cell_type": "code",
   "execution_count": null,
   "metadata": {},
   "outputs": [],
   "source": [
    "# Name: \n",
    "# Organisation: \n",
    "# GCMs used: "
   ]
  },
  {
   "cell_type": "code",
   "execution_count": 2,
   "metadata": {},
   "outputs": [],
   "source": [
    "#imports \n",
    "\n",
    "import numpy as np\n",
    "import scipy as sp\n",
    "import xarray as xr\n",
    "\n",
    "from IPython.display import Image, display\n",
    "\n",
    "import fnmatch # find match\n",
    "\n",
    "import glob\n",
    "from pprint import pprint\n",
    "from pathlib import Path"
   ]
  },
  {
   "cell_type": "markdown",
   "metadata": {},
   "source": [
    "### Aims"
   ]
  },
  {
   "cell_type": "markdown",
   "metadata": {},
   "source": [
    "This worksheet is designed as a starting point for ARCDAP-3 participants to use ESMValTool and Python (through Jupyter Notebook) to perform routine model evaluation diagnostics on global climate models (GCMs) from the CMIP database. Some familiarity with the Python and Unix language, along with netCDF files is required to perform the exercises in this worksheet. By the end of ARCDAP-3, you should have successfully evaluated for your assigned GCM(s): <br>\n",
    "* Plots of (and) mean 850 hPa air temperature and precipitation flux from 2000 - 2002. **(Module 1)** \n",
    "* Plots of (and) mean surface temperature and precipitation flux biases from 1995 - 2014. **(Module 2)** \n",
    "* Plots of trends in sea-surface temperatures, ENSO and IOD indices from 1979-2014. **(Module 3)**  \n",
    "* Short write-ups on your results and observations  "
   ]
  },
  {
   "cell_type": "markdown",
   "metadata": {},
   "source": [
    "### Instructions"
   ]
  },
  {
   "cell_type": "markdown",
   "metadata": {},
   "source": [
    "You may complete this worksheet individually or as a pair; CMIP GCMs have been assigned to participating countries in pairs. Follow the instructions to write your own code or make edits to the code cells wherever prompted by the comments (denoted by #). \n",
    "\n",
    "For the GCMs that you’ll work on, refer to the model assignment and download (or copy from one of the available hard drives) the model data assigned to you e.g. if you’ve been assigned the CNRM-CM6-1 model, download all 4 variable files (tas, ts, pr, psl) from this model. **Check that you have downloaded the correct files before proceeding.** Note the slightly different file name conventions between CMIP generations: <br>\n",
    "\n",
    "CMIP5: \n",
    "* ```[variable_short_name]_[mip]_[dataset_name]_[experiment]_[ensemble]_[start-date]-[end-date].nc```\n",
    "\n",
    "CMIP6:\n",
    "* ```[variable_short_name]_[mip]_[dataset_name]_[experiment]_[ensemble]_[grid]_[start-date]-[end-date].nc```\n",
    "\n",
    "Also download the *ERA-Interim* folder containing ERA-Interim data for the same 4 variables and *HadISST* folder containing the *HadISST_sst.nc* file. You should have thus downloaded a total of **13 data files**. "
   ]
  },
  {
   "cell_type": "markdown",
   "metadata": {},
   "source": [
    "### Some Orientation\n",
    "You'll be using the Jupyter Notebook cells to run ESMValTool and other Unix commands as if you are using a terminal. If you have followed the instructions correctly, you should have opened this Notebook in the *~/ESMValTool* directory (*~* is just shortcut for your home directory which will be */home/arcdap* if you're using the VM) with the esmvaltool environment activated. This notebook should be running on a Python 3 kernel, meaning that scripts you write into the code cells are interpreted as Python. "
   ]
  },
  {
   "cell_type": "code",
   "execution_count": 3,
   "metadata": {},
   "outputs": [
    {
     "data": {
      "text/plain": [
       "True"
      ]
     },
     "execution_count": 3,
     "metadata": {},
     "output_type": "execute_result"
    }
   ],
   "source": [
    "A = 1\n",
    "A < 2"
   ]
  },
  {
   "cell_type": "markdown",
   "metadata": {},
   "source": [
    "However you can also use the Jupyter cells to call Unix commands as though you are in a terminal by simply adding ```!``` at the front of your code.  "
   ]
  },
  {
   "cell_type": "code",
   "execution_count": 4,
   "metadata": {},
   "outputs": [
    {
     "name": "stdout",
     "output_type": "stream",
     "text": [
      "CITATION.cff\t\t esmvaltool\t\t\t       NOTICE\n",
      "CODE_OF_CONDUCT.md\t esmvaltool_output\t\t       README.md\n",
      "config-user-example.yml  ESMValTool Worksheet_cvdp_Chen.ipynb  RELEASE_NOTES\n",
      "CONTRIBUTING.md\t\t ESMValTool Worksheet_Q1.ipynb\t       setup.cfg\n",
      "doc\t\t\t language_support.sh\t\t       setup.py\n",
      "docker\t\t\t LICENSE\t\t\t       tests\n",
      "environment.yml\t\t meta.yaml\n"
     ]
    }
   ],
   "source": [
    "!ls #ls command lists all the files in your current directory, ~/ESMValTool "
   ]
  },
  {
   "cell_type": "markdown",
   "metadata": {},
   "source": [
    "## Task 0: Prerequisites \n",
    "---"
   ]
  },
  {
   "cell_type": "markdown",
   "metadata": {},
   "source": [
    "**Data and Scripts needed:** <br>\n",
    "Model and Observation output: <br>\n",
    "- 2 x CMIP6 Models + 1 x ERA-Interim <br>\n",
    "- CMIP experiment: historical <br>\n",
    "- Variables: tas, ts, pr, psl  <br>\n",
    "- Frequency: Monthly mean <br>\n",
    "\n",
    "Raw Observation output: <br>\n",
    "- 1 x HadISST <br>\n",
    "- Variables: ts/SST <br>\n",
    "- Frequency: Monthly mean <br>\n",
    "    \n",
    "---"
   ]
  },
  {
   "cell_type": "markdown",
   "metadata": {},
   "source": [
    "Before running ESMValTool, you have to first organise your downloaded CMIP6 and ERA-Interim files and properly set up the configuration file that ESMValTool reads to know where to find your data. For standardisation, please follow the steps below to ensure that everyone will have the same set-up of how and where their data are stored to make any debugging later easier. "
   ]
  },
  {
   "cell_type": "markdown",
   "metadata": {},
   "source": [
    "#### Organising your data"
   ]
  },
  {
   "cell_type": "markdown",
   "metadata": {},
   "source": [
    "1. Open up your home folder by clicking on MENU and selecting \"File Manager\"(for users using the VM). In your */home/arcdap* folder you should see that a folder *Models* has already been created for you. Inside this folder, you should find “ta” and “pr” netCDF (.nc) files belonging to the MPI-ESM-LR from CMIP5 that have been pre-downloaded. **Move or Copy** only the CMIP6 .nc files that you downloaded to this *Models* folder. You will use this folder to store all the CMIP6 .nc files you have downloaded (without any further subfolders). "
   ]
  },
  {
   "cell_type": "markdown",
   "metadata": {},
   "source": [
    "<img src='Images/models_folder.jpg' width=\"400\">\n",
    "\n",
    "<h5 align=\"center\">All CMIP output .nc files in the same ~/Models directory.<h5>"
   ]
  },
  {
   "cell_type": "markdown",
   "metadata": {},
   "source": [
    "2. For the ERA-Interim observation \"OBS6\" files, first create a directory in */home/arcdap* called *Obs*. Inside *Obs*, create a sub-folder called *Tier3* then copy/move the *ERA-Interim* folder that you downloaded into this *Tier3* folder. (*This tier corresponds to  data tiers where Tier3 refers to restricted datasets i.e. requires a registration to be retrieved or provided upon request to the respective contact or PI*). Your ERA-Interim .nc data files should now be inside the */home/arcdap/Obs/Tier3/ERA-Interim* directory. "
   ]
  },
  {
   "cell_type": "markdown",
   "metadata": {},
   "source": [
    "3. For the HadISST raw observation file *HadISST_sst.nc*, first create a directory in */home/arcdap* called *RawObs*. Inside *RawObs*, create a sub-folder called *Tier2* and then copy/move the *HadISST* folder that you downloaded into this *Tier2* folder. Your *HadISST_sst.nc* file should now be inside the */home/arcdap/RawObs/Tier2/HadISST* directory. "
   ]
  },
  {
   "cell_type": "markdown",
   "metadata": {},
   "source": [
    "#### Setting up the ESMValTool configuration file. "
   ]
  },
  {
   "cell_type": "markdown",
   "metadata": {},
   "source": [
    "You will now set up the configuration file in ESMValTool to direct it to find CMIP and Observation files in the *~/Models*, *~/Obs* and *~/RawObs* directories. \n",
    "1. Open up the *config-user-example.yml* file with the cell below."
   ]
  },
  {
   "cell_type": "code",
   "execution_count": 8,
   "metadata": {},
   "outputs": [
    {
     "name": "stdout",
     "output_type": "stream",
     "text": [
      "^C\n"
     ]
    }
   ],
   "source": [
    "# geany is the name of the text editor that you're commanding to open to edit the config file\n",
    "!geany ~/ESMValTool/config-user-example.yml"
   ]
  },
  {
   "cell_type": "markdown",
   "metadata": {},
   "source": [
    "2. In the *config-user-example.yml* file, set the paths for the ```CMIP5``` and ```CMIP6``` directories under ```rootpath``` to the directory ```~/Models```. Create a new line called ```OBS6``` and set the path for ```OBS6``` and ```OBS``` to ```~/Obs```. Lastly, set the path for ```RAWOBS``` to ```~/RawObs```. Your configuration file should resemble the image below. "
   ]
  },
  {
   "cell_type": "markdown",
   "metadata": {},
   "source": [
    "<img src='Images/config.PNG'>"
   ]
  },
  {
   "cell_type": "markdown",
   "metadata": {},
   "source": [
    "3. Scroll to the bottom and ensure that the options ```write_plots``` and ```write_netcdf``` are both set to ```true```. Leave all other settings as their defaults. Save and close your *config-user-example.yml* file."
   ]
  },
  {
   "cell_type": "markdown",
   "metadata": {},
   "source": [
    "Well done! You're now all set to start the worksheet proper. "
   ]
  },
  {
   "cell_type": "markdown",
   "metadata": {},
   "source": [
    "## Task 1: Getting Started"
   ]
  },
  {
   "cell_type": "markdown",
   "metadata": {},
   "source": [
    "--- \n",
    "**Data and Scripts needed:** <br>\n",
    "Model output: <br>\n",
    "- 1x CMIP5 Model output (MPI-ESM-LR) <br>\n",
    "- CMIP experiment: historical <br>\n",
    "- Variables: ta, pr <br>\n",
    "- Frequency: Monthly mean <br>\n",
    "\n",
    "Recipe: *~/ESMValTool/esmvaltool/recipes/examples/recipe_python.yml*\n",
    "\n",
    "---"
   ]
  },
  {
   "cell_type": "markdown",
   "metadata": {},
   "source": [
    "### T1.1. Create plots of mean air temperature and precipitation flux from 2000 to 2002 for one of your assigned GCMs"
   ]
  },
  {
   "cell_type": "markdown",
   "metadata": {},
   "source": [
    "This starting task will help you get used to the workflow and design of ESMValTool. You will use a simple example recipe to plot the model’s mean 850 hPA air temperature (ta) and precipitation flux (pr) over a short time period. \n",
    "\n",
    "Using the code cell below, navigate to the esmvaltool/recipes/examples/ directory and open the recipe_python.yml file. "
   ]
  },
  {
   "cell_type": "code",
   "execution_count": 11,
   "metadata": {},
   "outputs": [],
   "source": [
    "!geany esmvaltool/recipes/examples/recipe_python.yml"
   ]
  },
  {
   "cell_type": "markdown",
   "metadata": {},
   "source": [
    "The first section of the recipe documents metadata of the recipe such as the recipe’s description and authors. The second section includes the declaration of datasets to be evaluated with this recipe. You should see something like this: "
   ]
  },
  {
   "cell_type": "markdown",
   "metadata": {},
   "source": [
    "<img src='Images/recipe_python.PNG'>"
   ]
  },
  {
   "cell_type": "markdown",
   "metadata": {},
   "source": [
    "You should understand the first line under ```datasets``` (enclosed in { }) as referring to the CanESM2 model, from the CMIP5 project. The frequency of data to be used is monthly (“Amon” refers to Atmospheric Monthly), the data from the CMIP “historical” experiment and from the “r1i1p1” ensemble member. ESMValTool identifies the model output to be processed based on how these are declared and whether they match with the names of each model's respective .nc files. \n",
    "\n",
    "\n",
    "The recipe will then be performed over data from the year 2000 to 2002. \n",
    "\n",
    "You'll need to edit the ```datasets``` section so that the recipe only runs for the models that you want to run the recipe on. You only have output from the CMIP5 MPI-ESM-LR model, hence keep the line which belongs to this model and remove/comment out the unwanted models e.g. CanESM2. <br>\n",
    "\n",
    "---\n",
    "*You can also comment out lines in yml using “#” at the start, similar to Python. Yml however not does support multi-line commenting.*\n",
    "\n",
    "---"
   ]
  },
  {
   "cell_type": "markdown",
   "metadata": {},
   "source": [
    "Moving down, the preprocessors section indicates that before the actual recipe is run, the GCM air temperature data is first extracted from the 85000 Pa level and that a linear re-gridding scheme is used. Lastly, the diagnostics section provides a short description of what the actual diagnostic code, *examples/diagnostic.py* does, as well as the variables required, “ta” and “pr”. \n",
    "\n",
    "You are now ready to run your first ESMValTool recipe! "
   ]
  },
  {
   "cell_type": "markdown",
   "metadata": {},
   "source": [
    "1. Running recipes in ESMValTool typically follow a structure of:\n",
    "\n",
    "               esmvaltool -c [Configuration File] [Recipe File]"
   ]
  },
  {
   "cell_type": "markdown",
   "metadata": {},
   "source": [
    "2. Run the recipe in the cell below: \n",
    "\n",
    "If your recipe runs successfully, you will see a ```Run was successful``` message at the end of the output. _Please feel free to consult any of the experts should you encounter an error or bug. Only proceed if your recipe runs successfully._"
   ]
  },
  {
   "cell_type": "code",
   "execution_count": 12,
   "metadata": {},
   "outputs": [
    {
     "name": "stdout",
     "output_type": "stream",
     "text": [
      "2020-01-17 07:01:00,836 UTC [24185] INFO    \n",
      "______________________________________________________________________\n",
      "          _____ ____  __  ____     __    _ _____           _\n",
      "         | ____/ ___||  \\/  \\ \\   / /_ _| |_   _|__   ___ | |\n",
      "         |  _| \\___ \\| |\\/| |\\ \\ / / _` | | | |/ _ \\ / _ \\| |\n",
      "         | |___ ___) | |  | | \\ V / (_| | | | | (_) | (_) | |\n",
      "         |_____|____/|_|  |_|  \\_/ \\__,_|_| |_|\\___/ \\___/|_|\n",
      "______________________________________________________________________\n",
      "\n",
      "ESMValTool - Earth System Model Evaluation Tool.\n",
      "\n",
      "http://www.esmvaltool.org\n",
      "\n",
      "CORE DEVELOPMENT TEAM AND CONTACTS:\n",
      "  Veronika Eyring (PI; DLR, Germany - veronika.eyring@dlr.de)\n",
      "  Bouwe Andela (NLESC, Netherlands - b.andela@esciencecenter.nl)\n",
      "  Bjoern Broetz (DLR, Germany - bjoern.broetz@dlr.de)\n",
      "  Lee de Mora (PML, UK - ledm@pml.ac.uk)\n",
      "  Niels Drost (NLESC, Netherlands - n.drost@esciencecenter.nl)\n",
      "  Nikolay Koldunov (AWI, Germany - nikolay.koldunov@awi.de)\n",
      "  Axel Lauer (DLR, Germany - axel.lauer@dlr.de)\n",
      "  Benjamin Mueller (LMU, Germany - b.mueller@iggf.geo.uni-muenchen.de)\n",
      "  Valeriu Predoi (URead, UK - valeriu.predoi@ncas.ac.uk)\n",
      "  Mattia Righi (DLR, Germany - mattia.righi@dlr.de)\n",
      "  Manuel Schlund (DLR, Germany - manuel.schlund@dlr.de)\n",
      "  Javier Vegas-Regidor (BSC, Spain - javier.vegas@bsc.es)\n",
      "\n",
      "For further help, please read the documentation at\n",
      "http://esmvaltool.readthedocs.io. Have fun!\n",
      "\n",
      "2020-01-17 07:01:00,836 UTC [24185] INFO    Using config file /home/arcdap/ESMValTool/config-user-example.yml\n",
      "2020-01-17 07:01:00,836 UTC [24185] INFO    Writing program log files to:\n",
      "/home/arcdap/ESMValTool/esmvaltool_output/recipe_python_20200117_070100/run/main_log.txt\n",
      "/home/arcdap/ESMValTool/esmvaltool_output/recipe_python_20200117_070100/run/main_log_debug.txt\n",
      "2020-01-17 07:01:00,837 UTC [24185] INFO    Starting the Earth System Model Evaluation Tool v2.0.0b3 at time: 2020-01-17 07:01:00 UTC\n",
      "2020-01-17 07:01:00,837 UTC [24185] INFO    ----------------------------------------------------------------------\n",
      "2020-01-17 07:01:00,837 UTC [24185] INFO    RECIPE   = /home/arcdap/ESMValTool/esmvaltool/recipes/examples/recipe_python.yml\n",
      "2020-01-17 07:01:00,837 UTC [24185] INFO    RUNDIR     = /home/arcdap/ESMValTool/esmvaltool_output/recipe_python_20200117_070100/run\n",
      "2020-01-17 07:01:00,837 UTC [24185] INFO    WORKDIR    = /home/arcdap/ESMValTool/esmvaltool_output/recipe_python_20200117_070100/work\n",
      "2020-01-17 07:01:00,838 UTC [24185] INFO    PREPROCDIR = /home/arcdap/ESMValTool/esmvaltool_output/recipe_python_20200117_070100/preproc\n",
      "2020-01-17 07:01:00,838 UTC [24185] INFO    PLOTDIR    = /home/arcdap/ESMValTool/esmvaltool_output/recipe_python_20200117_070100/plots\n",
      "2020-01-17 07:01:00,838 UTC [24185] INFO    ----------------------------------------------------------------------\n",
      "2020-01-17 07:01:00,838 UTC [24185] INFO    Running tasks using at most 1 processes\n",
      "2020-01-17 07:01:00,838 UTC [24185] INFO    If your system hangs during execution, it may not have enough memory for keeping this number of tasks in memory. In that case, try reducing 'max_parallel_tasks' in your user configuration file.\n",
      "2020-01-17 07:01:00,890 UTC [24185] INFO    Creating tasks from recipe\n",
      "2020-01-17 07:01:00,891 UTC [24185] INFO    Creating tasks for diagnostic diagnostic1\n",
      "2020-01-17 07:01:00,891 UTC [24185] INFO    Creating preprocessor task diagnostic1/ta\n",
      "2020-01-17 07:01:00,891 UTC [24185] INFO    Creating preprocessor 'preprocessor1' task for variable 'ta'\n",
      "2020-01-17 07:01:00,893 UTC [24185] INFO    Using input files for variable ta of dataset MPI-ESM-LR:\n",
      "/home/arcdap/Models/ta_Amon_MPI-ESM-LR_historical_r1i1p1_200001-200512.nc\n",
      "2020-01-17 07:01:00,911 UTC [24185] INFO    PreprocessingTask diagnostic1/ta created. It will create the files:\n",
      "/home/arcdap/ESMValTool/esmvaltool_output/recipe_python_20200117_070100/preproc/diagnostic1/ta/CMIP5_MPI-ESM-LR_Amon_historical_r1i1p1_ta_2000-2002.nc\n",
      "2020-01-17 07:01:00,911 UTC [24185] INFO    Creating preprocessor task diagnostic1/pr\n",
      "2020-01-17 07:01:00,911 UTC [24185] INFO    Creating preprocessor 'default' task for variable 'pr'\n",
      "2020-01-17 07:01:00,912 UTC [24185] INFO    Using input files for variable pr of dataset MPI-ESM-LR:\n",
      "/home/arcdap/Models/pr_Amon_MPI-ESM-LR_historical_r1i1p1_185001-200512.nc\n",
      "2020-01-17 07:01:00,916 UTC [24185] INFO    PreprocessingTask diagnostic1/pr created. It will create the files:\n",
      "/home/arcdap/ESMValTool/esmvaltool_output/recipe_python_20200117_070100/preproc/diagnostic1/pr/CMIP5_MPI-ESM-LR_Amon_historical_r1i1p1_pr_2000-2002.nc\n",
      "2020-01-17 07:01:00,916 UTC [24185] INFO    Creating diagnostic task diagnostic1/script1\n",
      "2020-01-17 07:01:00,924 UTC [24185] INFO    These tasks will be executed: diagnostic1/script1, diagnostic1/pr, diagnostic1/ta\n",
      "2020-01-17 07:01:00,932 UTC [24185] INFO    Running 3 tasks sequentially\n",
      "2020-01-17 07:01:00,932 UTC [24185] INFO    Starting task diagnostic1/ta in process [24185]\n",
      "2020-01-17 07:01:01,855 UTC [24185] INFO    Single dataset in list: will not compute statistics.\n",
      "2020-01-17 07:01:01,929 UTC [24185] INFO    Successfully completed task diagnostic1/ta (priority 0) in 0:00:00.996232\n",
      "2020-01-17 07:01:01,929 UTC [24185] INFO    Starting task diagnostic1/pr in process [24185]\n",
      "2020-01-17 07:01:14,360 UTC [24185] INFO    Successfully completed task diagnostic1/pr (priority 1) in 0:00:12.431588\n",
      "2020-01-17 07:01:14,361 UTC [24185] INFO    Starting task diagnostic1/script1 in process [24185]\n",
      "2020-01-17 07:01:14,364 UTC [24185] INFO    Running command ['/home/arcdap/miniconda3/envs/esmvaltool/bin/python', '/home/arcdap/miniconda3/envs/esmvaltool/lib/python3.7/site-packages/esmvaltool/diag_scripts/examples/diagnostic.py', '/home/arcdap/ESMValTool/esmvaltool_output/recipe_python_20200117_070100/run/diagnostic1/script1/settings.yml']\n",
      "2020-01-17 07:01:14,368 UTC [24185] INFO    Writing output to /home/arcdap/ESMValTool/esmvaltool_output/recipe_python_20200117_070100/work/diagnostic1/script1\n",
      "2020-01-17 07:01:14,368 UTC [24185] INFO    Writing plots to /home/arcdap/ESMValTool/esmvaltool_output/recipe_python_20200117_070100/plots/diagnostic1/script1\n",
      "2020-01-17 07:01:14,368 UTC [24185] INFO    Writing log to /home/arcdap/ESMValTool/esmvaltool_output/recipe_python_20200117_070100/run/diagnostic1/script1/log.txt\n",
      "2020-01-17 07:01:14,368 UTC [24185] INFO    To re-run this diagnostic script, run:\n",
      "cd /home/arcdap/ESMValTool/esmvaltool_output/recipe_python_20200117_070100/run/diagnostic1/script1;  /home/arcdap/miniconda3/envs/esmvaltool/bin/python /home/arcdap/miniconda3/envs/esmvaltool/lib/python3.7/site-packages/esmvaltool/diag_scripts/examples/diagnostic.py /home/arcdap/ESMValTool/esmvaltool_output/recipe_python_20200117_070100/run/diagnostic1/script1/settings.yml\n",
      "2020-01-17 07:01:18,767 UTC [24185] INFO    Successfully completed task diagnostic1/script1 (priority 2) in 0:00:04.406213\n",
      "2020-01-17 07:01:18,767 UTC [24185] INFO    Ending the Earth System Model Evaluation Tool v2.0.0b3 at time: 2020-01-17 07:01:18 UTC\n",
      "2020-01-17 07:01:18,767 UTC [24185] INFO    Time for running the recipe was: 0:00:17.930224\n",
      "2020-01-17 07:01:18,768 UTC [24185] INFO    For the required references/acknowledgements of these diagnostics see:\n",
      "\n",
      "2020-01-17 07:01:18,957 UTC [24185] INFO    Removing preproc containing preprocessed data\n",
      "2020-01-17 07:01:18,957 UTC [24185] INFO    If this data is further needed, then\n",
      "2020-01-17 07:01:18,957 UTC [24185] INFO    set remove_preproc_dir to false in config\n",
      "2020-01-17 07:01:18,959 UTC [24185] INFO    Run was successful\n"
     ]
    }
   ],
   "source": [
    "! esmvaltool -c config-user-example.yml esmvaltool/recipes/examples/recipe_python.yml"
   ]
  },
  {
   "cell_type": "markdown",
   "metadata": {},
   "source": [
    "3. Now, navigate to the directory containing the output from running this recipe. By default, all recipe output files are stored inside the *~/ESMValTool/esmvaltool_output* directory."
   ]
  },
  {
   "cell_type": "code",
   "execution_count": 13,
   "metadata": {},
   "outputs": [
    {
     "name": "stdout",
     "output_type": "stream",
     "text": [
      "recipe_cvdp_20191213_172749\n",
      "recipe_cvdp_20191213_173441\n",
      "recipe_cvdp_20191214_122333\n",
      "recipe_cvdp_20200116_075447\n",
      "recipe_python_20200117_070100\n",
      "recipe_validation_CMIP6_20191213_221918\n",
      "recipe_validation_CMIP6_20191214_020427\n",
      "recipe_validation_CMIP6_20191214_022739\n",
      "recipe_validation_CMIP6_20191214_023144\n",
      "recipe_validation_CMIP6_20191215_230454\n",
      "recipe_validation_CMIP6_20191215_230902\n",
      "recipe_validation_CMIP6_20191216_044746_INDOPAC\n",
      "recipe_validation_CMIP6_20191216_071113\n",
      "recipe_validation_CMIP6_20191216_071431\n",
      "recipe_validation_CMIP6_20191216_073610\n",
      "recipe_validation_CMIP6_20191216_074228\n",
      "recipe_validation_CMIP6_20191216_090333\n",
      "recipe_validation_CMIP6_20191216_092147\n",
      "recipe_validation_CMIP6_20191216_095212\n",
      "recipe_validation_CMIP6_20191216_101648\n",
      "recipe_validation_CMIP6_20191216_102142\n",
      "recipe_validation_CMIP6_20200116_031130\n",
      "recipe_validation_CMIP6_20200116_031207\n",
      "recipe_validation_CMIP6_20200116_031243\n"
     ]
    }
   ],
   "source": [
    "! ls esmvaltool_output/"
   ]
  },
  {
   "cell_type": "markdown",
   "metadata": {},
   "source": [
    "4. The output for your recipe will be stored in a sub-directory structured as *[recipe name] _ [YYYYMMDD] _ [HHMMSS]*. The plots of mean “ta” and “pr” should be in the */plots* folder within this directory. Use the code below to open and display the plots. "
   ]
  },
  {
   "cell_type": "code",
   "execution_count": 4,
   "metadata": {},
   "outputs": [
    {
     "name": "stdout",
     "output_type": "stream",
     "text": [
      "['/home/arcdap/ESMValTool/esmvaltool_output/recipe_python_20200117_070100/plots/diagnostic1/script1/CMIP5_MPI-ESM-LR_Amon_historical_r1i1p1_ta_2000-2002_mean.png',\n",
      " '/home/arcdap/ESMValTool/esmvaltool_output/recipe_python_20200117_070100/plots/diagnostic1/script1/CMIP5_MPI-ESM-LR_Amon_historical_r1i1p1_pr_2000-2002_mean.png']\n"
     ]
    }
   ],
   "source": [
    "home = str(Path.home())  #Your home directory\n",
    "\n",
    "# Insert the sub-folder containing the recipe output into the ''\n",
    "# e.g. dirname1='recipe_python_20200117_070100'\n",
    "dirname1='recipe_python_20200117_070100';  \n",
    "# Full path of the folder containing the plots produced by the recipe \n",
    "dirname=home+'/ESMValTool/esmvaltool_output/'+ dirname1 +'/plots/diagnostic1/script1/';\n",
    "\n",
    "# List of .png image files in the dirname directory\n",
    "listing = glob.glob(dirname+'*.png')\n",
    "\n",
    "pprint(listing)"
   ]
  },
  {
   "cell_type": "code",
   "execution_count": 6,
   "metadata": {},
   "outputs": [
    {
     "data": {
      "image/png": "[encoded data removed]",
      "text/plain": [
       "<IPython.core.display.Image object>"
      ]
     },
     "metadata": {},
     "output_type": "display_data"
    },
    {
     "data": {
      "image/png": "[encoded data removed]",
      "text/plain": [
       "<IPython.core.display.Image object>"
      ]
     },
     "metadata": {},
     "output_type": "display_data"
    }
   ],
   "source": [
    "# Display the plots of mean ta and pr:\n",
    "\n",
    "for imageName in listing:\n",
    "    display(Image(filename=imageName))\n",
    "    "
   ]
  },
  {
   "cell_type": "markdown",
   "metadata": {},
   "source": [
    "### T1.2. Calculate the mean air temperature and precipitation flux from 2000 to 2002 for your assigned GCM"
   ]
  },
  {
   "cell_type": "markdown",
   "metadata": {},
   "source": [
    "Congratulations! You’ve successfully run and obtained output from your first ESMValTool recipe. However, suppose you want to calculate the global mean air temperature and precipitation flux from these plots, how can you do so? "
   ]
  },
  {
   "cell_type": "markdown",
   "metadata": {},
   "source": [
    "1. Because you've set the option for ```write_netcdf``` to ```true``` in the *config-user-example.yml* file in the prerequesites task, ESMValTool has saved the data that generates the above two plots in the .nc format. These will be located in this recipe's output directory in the */work* sub-folder."
   ]
  },
  {
   "cell_type": "code",
   "execution_count": 10,
   "metadata": {},
   "outputs": [
    {
     "name": "stdout",
     "output_type": "stream",
     "text": [
      "['/home/arcdap/ESMValTool/esmvaltool_output/recipe_python_20200117_070100/work/diagnostic1/script1/CMIP5_MPI-ESM-LR_Amon_historical_r1i1p1_pr_2000-2002_mean.nc',\n",
      " '/home/arcdap/ESMValTool/esmvaltool_output/recipe_python_20200117_070100/work/diagnostic1/script1/CMIP5_MPI-ESM-LR_Amon_historical_r1i1p1_ta_2000-2002_mean.nc']\n"
     ]
    }
   ],
   "source": [
    "dirname2=home+'/ESMValTool/esmvaltool_output/'+ dirname1 +'/work/diagnostic1/script1/';\n",
    "\n",
    "# List of .png image files in the dirname directory\n",
    "# Following the example from above for plots, how will you extract the list \n",
    "# of .nc files in the directory? Insert your answer in the quotations ''. \n",
    "listing2 = glob.glob(dirname2+'*.nc')\n",
    "\n",
    "pprint(listing2)"
   ]
  },
  {
   "cell_type": "markdown",
   "metadata": {},
   "source": [
    "2. Use the xarray library to open the first .nc file for mean precipitation flux (pr) from 2000 to 2002. "
   ]
  },
  {
   "cell_type": "code",
   "execution_count": 11,
   "metadata": {},
   "outputs": [
    {
     "data": {
      "text/html": [
       "<pre>&lt;xarray.Dataset&gt;\n",
       "Dimensions:            (bnds: 2, lat: 96, lon: 192)\n",
       "Coordinates:\n",
       "  * lat                (lat) float64 -88.57 -86.72 -84.86 ... 84.86 86.72 88.57\n",
       "  * lon                (lon) float64 0.0 1.875 3.75 5.625 ... 354.4 356.2 358.1\n",
       "    day_of_month       int64 ...\n",
       "    day_of_year        int64 ...\n",
       "    month_number       int64 ...\n",
       "    time               datetime64[ns] ...\n",
       "    year               int64 ...\n",
       "Dimensions without coordinates: bnds\n",
       "Data variables:\n",
       "    pr                 (lat, lon) float32 ...\n",
       "    lat_bnds           (lat, bnds) float64 ...\n",
       "    lon_bnds           (lon, bnds) float64 ...\n",
       "    day_of_month_bnds  (bnds) int64 ...\n",
       "    day_of_year_bnds   (bnds) int64 ...\n",
       "    month_number_bnds  (bnds) int64 ...\n",
       "    time_bnds          (bnds) datetime64[ns] ...\n",
       "    year_bnds          (bnds) int64 ...\n",
       "Attributes:\n",
       "    associated_files:       baseURL: http://cmip-pcmdi.llnl.gov/CMIP5/dataLoc...\n",
       "    branch_time:            10957.0\n",
       "    cmor_version:           2.5.9\n",
       "    comment:                at surface; includes both liquid and solid phases...\n",
       "    contact:                cmip5-mpi-esm@dkrz.de\n",
       "    experiment:             historical\n",
       "    experiment_id:          historical\n",
       "    forcing:                GHG Oz SD Sl Vl LU\n",
       "    frequency:              mon\n",
       "    initialization_method:  1\n",
       "    institute_id:           MPI-M\n",
       "    institution:            Max Planck Institute for Meteorology\n",
       "    model_id:               MPI-ESM-LR\n",
       "    modeling_realm:         atmos\n",
       "    parent_experiment:      pre-industrial control\n",
       "    parent_experiment_id:   piControl\n",
       "    parent_experiment_rip:  r1i1p1\n",
       "    physics_version:        1\n",
       "    product:                output\n",
       "    project_id:             CMIP5\n",
       "    realization:            1\n",
       "    references:             ECHAM6: n/a; JSBACH: Raddatz et al., 2007. Will t...\n",
       "    source:                 MPI-ESM-LR 2011; URL: http://svn.zmaw.de/svn/cosm...\n",
       "    table_id:               Table Amon (27 April 2011) a5a1c518f52ae340313ba0...\n",
       "    title:                  MPI-ESM-LR model output prepared for CMIP5 histor...\n",
       "    Conventions:            CF-1.5\n",
       "    provenance:             &lt;?xml version=&#x27;1.0&#x27; encoding=&#x27;ASCII&#x27;?&gt;\\n&lt;prov:doc...\n",
       "    software:               Created with ESMValTool v2.0.0b3\n",
       "    caption:                Average Precipitation between 2000 and 2002 accor...</pre>"
      ],
      "text/plain": [
       "<xarray.Dataset>\n",
       "Dimensions:            (bnds: 2, lat: 96, lon: 192)\n",
       "Coordinates:\n",
       "  * lat                (lat) float64 -88.57 -86.72 -84.86 ... 84.86 86.72 88.57\n",
       "  * lon                (lon) float64 0.0 1.875 3.75 5.625 ... 354.4 356.2 358.1\n",
       "    day_of_month       int64 ...\n",
       "    day_of_year        int64 ...\n",
       "    month_number       int64 ...\n",
       "    time               datetime64[ns] ...\n",
       "    year               int64 ...\n",
       "Dimensions without coordinates: bnds\n",
       "Data variables:\n",
       "    pr                 (lat, lon) float32 ...\n",
       "    lat_bnds           (lat, bnds) float64 ...\n",
       "    lon_bnds           (lon, bnds) float64 ...\n",
       "    day_of_month_bnds  (bnds) int64 ...\n",
       "    day_of_year_bnds   (bnds) int64 ...\n",
       "    month_number_bnds  (bnds) int64 ...\n",
       "    time_bnds          (bnds) datetime64[ns] ...\n",
       "    year_bnds          (bnds) int64 ...\n",
       "Attributes:\n",
       "    associated_files:       baseURL: http://cmip-pcmdi.llnl.gov/CMIP5/dataLoc...\n",
       "    branch_time:            10957.0\n",
       "    cmor_version:           2.5.9\n",
       "    comment:                at surface; includes both liquid and solid phases...\n",
       "    contact:                cmip5-mpi-esm@dkrz.de\n",
       "    experiment:             historical\n",
       "    experiment_id:          historical\n",
       "    forcing:                GHG Oz SD Sl Vl LU\n",
       "    frequency:              mon\n",
       "    initialization_method:  1\n",
       "    institute_id:           MPI-M\n",
       "    institution:            Max Planck Institute for Meteorology\n",
       "    model_id:               MPI-ESM-LR\n",
       "    modeling_realm:         atmos\n",
       "    parent_experiment:      pre-industrial control\n",
       "    parent_experiment_id:   piControl\n",
       "    parent_experiment_rip:  r1i1p1\n",
       "    physics_version:        1\n",
       "    product:                output\n",
       "    project_id:             CMIP5\n",
       "    realization:            1\n",
       "    references:             ECHAM6: n/a; JSBACH: Raddatz et al., 2007. Will t...\n",
       "    source:                 MPI-ESM-LR 2011; URL: http://svn.zmaw.de/svn/cosm...\n",
       "    table_id:               Table Amon (27 April 2011) a5a1c518f52ae340313ba0...\n",
       "    title:                  MPI-ESM-LR model output prepared for CMIP5 histor...\n",
       "    Conventions:            CF-1.5\n",
       "    provenance:             <?xml version='1.0' encoding='ASCII'?>\\n<prov:doc...\n",
       "    software:               Created with ESMValTool v2.0.0b3\n",
       "    caption:                Average Precipitation between 2000 and 2002 accor..."
      ]
     },
     "execution_count": 11,
     "metadata": {},
     "output_type": "execute_result"
    }
   ],
   "source": [
    "# The pr file is index [0] in the list listing2 \n",
    "# Insert the \n",
    "MPI_1 = xr.open_dataset(listing2[0])\n",
    "MPI_1"
   ]
  },
  {
   "cell_type": "markdown",
   "metadata": {},
   "source": [
    "3. Extract the mean pr data from the ```'pr'``` key from ```\"Data variables\"```."
   ]
  },
  {
   "cell_type": "code",
   "execution_count": 12,
   "metadata": {},
   "outputs": [
    {
     "data": {
      "text/html": [
       "<pre>&lt;xarray.DataArray &#x27;pr&#x27; (lat: 96, lon: 192)&gt;\n",
       "array([[2.005672e-06, 2.010442e-06, 2.018008e-06, ..., 1.973733e-06,\n",
       "        1.985079e-06, 1.995941e-06],\n",
       "       [2.002689e-06, 1.951995e-06, 1.894533e-06, ..., 2.073409e-06,\n",
       "        2.074285e-06, 2.086804e-06],\n",
       "       [2.248383e-06, 2.209411e-06, 2.183394e-06, ..., 2.678603e-06,\n",
       "        2.552502e-06, 2.458367e-06],\n",
       "       ...,\n",
       "       [9.158697e-06, 8.981361e-06, 9.107440e-06, ..., 9.415297e-06,\n",
       "        9.169259e-06, 9.292562e-06],\n",
       "       [8.600407e-06, 8.351042e-06, 8.586000e-06, ..., 8.505272e-06,\n",
       "        8.487763e-06, 8.645136e-06],\n",
       "       [6.927472e-06, 6.995423e-06, 6.936877e-06, ..., 6.966445e-06,\n",
       "        6.973181e-06, 6.946523e-06]], dtype=float32)\n",
       "Coordinates:\n",
       "  * lat           (lat) float64 -88.57 -86.72 -84.86 -83.0 ... 84.86 86.72 88.57\n",
       "  * lon           (lon) float64 0.0 1.875 3.75 5.625 ... 352.5 354.4 356.2 358.1\n",
       "    day_of_month  int64 ...\n",
       "    day_of_year   int64 ...\n",
       "    month_number  int64 ...\n",
       "    time          datetime64[ns] ...\n",
       "    year          int64 ...\n",
       "Attributes:\n",
       "    standard_name:  precipitation_flux\n",
       "    long_name:      Precipitation\n",
       "    units:          kg m-2 s-1\n",
       "    cell_methods:   time: mean time: mean</pre>"
      ],
      "text/plain": [
       "<xarray.DataArray 'pr' (lat: 96, lon: 192)>\n",
       "array([[2.005672e-06, 2.010442e-06, 2.018008e-06, ..., 1.973733e-06,\n",
       "        1.985079e-06, 1.995941e-06],\n",
       "       [2.002689e-06, 1.951995e-06, 1.894533e-06, ..., 2.073409e-06,\n",
       "        2.074285e-06, 2.086804e-06],\n",
       "       [2.248383e-06, 2.209411e-06, 2.183394e-06, ..., 2.678603e-06,\n",
       "        2.552502e-06, 2.458367e-06],\n",
       "       ...,\n",
       "       [9.158697e-06, 8.981361e-06, 9.107440e-06, ..., 9.415297e-06,\n",
       "        9.169259e-06, 9.292562e-06],\n",
       "       [8.600407e-06, 8.351042e-06, 8.586000e-06, ..., 8.505272e-06,\n",
       "        8.487763e-06, 8.645136e-06],\n",
       "       [6.927472e-06, 6.995423e-06, 6.936877e-06, ..., 6.966445e-06,\n",
       "        6.973181e-06, 6.946523e-06]], dtype=float32)\n",
       "Coordinates:\n",
       "  * lat           (lat) float64 -88.57 -86.72 -84.86 -83.0 ... 84.86 86.72 88.57\n",
       "  * lon           (lon) float64 0.0 1.875 3.75 5.625 ... 352.5 354.4 356.2 358.1\n",
       "    day_of_month  int64 ...\n",
       "    day_of_year   int64 ...\n",
       "    month_number  int64 ...\n",
       "    time          datetime64[ns] ...\n",
       "    year          int64 ...\n",
       "Attributes:\n",
       "    standard_name:  precipitation_flux\n",
       "    long_name:      Precipitation\n",
       "    units:          kg m-2 s-1\n",
       "    cell_methods:   time: mean time: mean"
      ]
     },
     "execution_count": 12,
     "metadata": {},
     "output_type": "execute_result"
    }
   ],
   "source": [
    "MPI_pr = MPI_1['pr']\n",
    "MPI_pr"
   ]
  },
  {
   "cell_type": "markdown",
   "metadata": {},
   "source": [
    "4. Use Numpy to calculate the global mean pr for the MPI-ESM-LR model. <br>\n",
    "\n",
    "**Global mean precipitation flux (pr):**"
   ]
  },
  {
   "cell_type": "markdown",
   "metadata": {},
   "source": [
    "To calculate the global mean we must also factor in the area of every grid, which varies according to location (since Earth is a sphere and not a flat projection). We'll use for this hands-on exercise, a simple *cosine-weighting* technique to factor in the convergence of the meridians at higher latitudes (i.e. reduce the weights of grids at high latitudes which represent a smaller globe area). "
   ]
  },
  {
   "cell_type": "markdown",
   "metadata": {},
   "source": [
    "Cosine weighting:"
   ]
  },
  {
   "cell_type": "code",
   "execution_count": 20,
   "metadata": {},
   "outputs": [
    {
     "data": {
      "text/plain": [
       "array([-88.57216644, -86.72253418, -84.86196899, -82.99893951,\n",
       "       -81.13497925, -79.27056122, -77.40589142, -75.5410614 ,\n",
       "       -73.6761322 , -71.81113434, -69.94608307, -68.08099365,\n",
       "       -66.21587372, -64.3507309 , -62.485569  , -60.62039566,\n",
       "       -58.75521088, -56.89001465, -55.02480698, -53.15959549,\n",
       "       -51.29437637, -49.42915344, -47.5639267 , -45.69869232,\n",
       "       -43.83345795, -41.96821976, -40.10297775, -38.23773575,\n",
       "       -36.37248993, -34.50724411, -32.64199448, -30.77674484,\n",
       "       -28.9114933 , -27.04623985, -25.1809864 , -23.31573105,\n",
       "       -21.45047569, -19.58521843, -17.71996117, -15.8547039 ,\n",
       "       -13.98944569, -12.12418747, -10.2589283 ,  -8.39366913,\n",
       "        -6.52840948,  -4.66314983,  -2.79788971,  -0.93263   ,\n",
       "         0.93262988,   2.79788995,   4.66314983,   6.52840948,\n",
       "         8.39366913,  10.2589283 ,  12.12418747,  13.98944569,\n",
       "        15.8547039 ,  17.71996117,  19.58521843,  21.45047569,\n",
       "        23.31573105,  25.1809864 ,  27.04623985,  28.9114933 ,\n",
       "        30.77674484,  32.64199448,  34.50724411,  36.37248993,\n",
       "        38.23773575,  40.10297775,  41.96821976,  43.83345795,\n",
       "        45.69869232,  47.5639267 ,  49.42915344,  51.29437637,\n",
       "        53.15959549,  55.02480698,  56.89001083,  58.75521088,\n",
       "        60.62039566,  62.485569  ,  64.3507309 ,  66.21587372,\n",
       "        68.08099365,  69.94608307,  71.81113434,  73.6761322 ,\n",
       "        75.5410614 ,  77.40589142,  79.27056122,  81.13497925,\n",
       "        82.99893951,  84.86196899,  86.72253418,  88.57216644])"
      ]
     },
     "execution_count": 20,
     "metadata": {},
     "output_type": "execute_result"
    }
   ],
   "source": [
    "# First we'll need the latitude data of the output file. \n",
    "MPI_1['lat'].data"
   ]
  },
  {
   "cell_type": "code",
   "execution_count": 45,
   "metadata": {},
   "outputs": [
    {
     "data": {
      "text/plain": [
       "3.417271232918528e-05"
      ]
     },
     "execution_count": 45,
     "metadata": {},
     "output_type": "execute_result"
    }
   ],
   "source": [
    "# Take the zonal average first (axis=1), then weigh each latitude by cosine(latitude),\n",
    "# then take the weighted average \n",
    "# Remember that the latitude angles must be convertedn into radians\n",
    "\n",
    "np.average(np.mean(MPI_pr.data, axis=1), weights = np.cos(np.pi*MPI_1['lat'].data/180))"
   ]
  },
  {
   "cell_type": "code",
   "execution_count": 53,
   "metadata": {},
   "outputs": [
    {
     "data": {
      "text/plain": [
       "2.8304394e-05"
      ]
     },
     "execution_count": 53,
     "metadata": {},
     "output_type": "execute_result"
    }
   ],
   "source": [
    "np.mean(MPI_pr.data)"
   ]
  },
  {
   "cell_type": "markdown",
   "metadata": {},
   "source": [
    "5. Repeat the above for 850 hPa air temperature from 2000 to 2002. "
   ]
  },
  {
   "cell_type": "code",
   "execution_count": 24,
   "metadata": {},
   "outputs": [
    {
     "data": {
      "text/html": [
       "<pre>&lt;xarray.DataArray &#x27;ta&#x27; (lat: 180, lon: 360)&gt;\n",
       "array([[9.969210e+36, 9.969210e+36, 9.969210e+36, ..., 9.969210e+36,\n",
       "        9.969210e+36, 9.969210e+36],\n",
       "       [2.371884e+02, 2.371806e+02, 2.371736e+02, ..., 2.372165e+02,\n",
       "        2.372063e+02, 2.371969e+02],\n",
       "       [2.370049e+02, 2.369661e+02, 2.369308e+02, ..., 2.371378e+02,\n",
       "        2.370904e+02, 2.370463e+02],\n",
       "       ...,\n",
       "       [2.599640e+02, 2.599695e+02, 2.599749e+02, ..., 2.599458e+02,\n",
       "        2.599520e+02, 2.599581e+02],\n",
       "       [2.597506e+02, 2.597522e+02, 2.597538e+02, ..., 2.597453e+02,\n",
       "        2.597472e+02, 2.597490e+02],\n",
       "       [9.969210e+36, 9.969210e+36, 9.969210e+36, ..., 9.969210e+36,\n",
       "        9.969210e+36, 9.969210e+36]], dtype=float32)\n",
       "Coordinates:\n",
       "  * lat           (lat) float64 -89.5 -88.5 -87.5 -86.5 ... 86.5 87.5 88.5 89.5\n",
       "  * lon           (lon) float64 0.5 1.5 2.5 3.5 4.5 ... 356.5 357.5 358.5 359.5\n",
       "    plev          float64 ...\n",
       "    day_of_month  int64 ...\n",
       "    day_of_year   int64 ...\n",
       "    month_number  int64 ...\n",
       "    time          datetime64[ns] ...\n",
       "    year          int64 ...\n",
       "Attributes:\n",
       "    standard_name:  air_temperature\n",
       "    long_name:      Air Temperature\n",
       "    units:          K\n",
       "    cell_methods:   time: mean time: mean</pre>"
      ],
      "text/plain": [
       "<xarray.DataArray 'ta' (lat: 180, lon: 360)>\n",
       "array([[9.969210e+36, 9.969210e+36, 9.969210e+36, ..., 9.969210e+36,\n",
       "        9.969210e+36, 9.969210e+36],\n",
       "       [2.371884e+02, 2.371806e+02, 2.371736e+02, ..., 2.372165e+02,\n",
       "        2.372063e+02, 2.371969e+02],\n",
       "       [2.370049e+02, 2.369661e+02, 2.369308e+02, ..., 2.371378e+02,\n",
       "        2.370904e+02, 2.370463e+02],\n",
       "       ...,\n",
       "       [2.599640e+02, 2.599695e+02, 2.599749e+02, ..., 2.599458e+02,\n",
       "        2.599520e+02, 2.599581e+02],\n",
       "       [2.597506e+02, 2.597522e+02, 2.597538e+02, ..., 2.597453e+02,\n",
       "        2.597472e+02, 2.597490e+02],\n",
       "       [9.969210e+36, 9.969210e+36, 9.969210e+36, ..., 9.969210e+36,\n",
       "        9.969210e+36, 9.969210e+36]], dtype=float32)\n",
       "Coordinates:\n",
       "  * lat           (lat) float64 -89.5 -88.5 -87.5 -86.5 ... 86.5 87.5 88.5 89.5\n",
       "  * lon           (lon) float64 0.5 1.5 2.5 3.5 4.5 ... 356.5 357.5 358.5 359.5\n",
       "    plev          float64 ...\n",
       "    day_of_month  int64 ...\n",
       "    day_of_year   int64 ...\n",
       "    month_number  int64 ...\n",
       "    time          datetime64[ns] ...\n",
       "    year          int64 ...\n",
       "Attributes:\n",
       "    standard_name:  air_temperature\n",
       "    long_name:      Air Temperature\n",
       "    units:          K\n",
       "    cell_methods:   time: mean time: mean"
      ]
     },
     "execution_count": 24,
     "metadata": {},
     "output_type": "execute_result"
    }
   ],
   "source": [
    "# Fill in the appropriate argument into xr.open_dataset()\n",
    "MPI_2 = xr.open_dataset(listing2[1])\n",
    "MPI_ta = MPI_2['ta']\n",
    "MPI_ta"
   ]
  },
  {
   "cell_type": "markdown",
   "metadata": {},
   "source": [
    "You should notice that there are some extremely large (e+36) values in the array. These artefacts should be masked before you perform any calculations on the data array as they can interfere with your calculations. A simple method to do so is shown below:"
   ]
  },
  {
   "cell_type": "code",
   "execution_count": 25,
   "metadata": {},
   "outputs": [
    {
     "data": {
      "text/html": [
       "<pre>&lt;xarray.DataArray &#x27;ta&#x27; (lat: 180, lon: 360)&gt;\n",
       "array([[      nan,       nan,       nan, ...,       nan,       nan,\n",
       "              nan],\n",
       "       [237.18837, 237.1806 , 237.17361, ..., 237.21652, 237.2063 ,\n",
       "        237.19691],\n",
       "       [237.00488, 236.96614, 236.93083, ..., 237.1378 , 237.09041,\n",
       "        237.04633],\n",
       "       ...,\n",
       "       [259.96396, 259.9695 , 259.9749 , ..., 259.9458 , 259.95203,\n",
       "        259.9581 ],\n",
       "       [259.7506 , 259.75223, 259.7538 , ..., 259.7453 , 259.74716,\n",
       "        259.74896],\n",
       "       [      nan,       nan,       nan, ...,       nan,       nan,\n",
       "              nan]], dtype=float32)\n",
       "Coordinates:\n",
       "  * lat           (lat) float64 -89.5 -88.5 -87.5 -86.5 ... 86.5 87.5 88.5 89.5\n",
       "  * lon           (lon) float64 0.5 1.5 2.5 3.5 4.5 ... 356.5 357.5 358.5 359.5\n",
       "    plev          float64 8.5e+04\n",
       "    day_of_month  int64 15\n",
       "    day_of_year   int64 183\n",
       "    month_number  int64 6\n",
       "    time          datetime64[ns] 2001-07-02\n",
       "    year          int64 2001\n",
       "Attributes:\n",
       "    standard_name:  air_temperature\n",
       "    long_name:      Air Temperature\n",
       "    units:          K\n",
       "    cell_methods:   time: mean time: mean</pre>"
      ],
      "text/plain": [
       "<xarray.DataArray 'ta' (lat: 180, lon: 360)>\n",
       "array([[      nan,       nan,       nan, ...,       nan,       nan,\n",
       "              nan],\n",
       "       [237.18837, 237.1806 , 237.17361, ..., 237.21652, 237.2063 ,\n",
       "        237.19691],\n",
       "       [237.00488, 236.96614, 236.93083, ..., 237.1378 , 237.09041,\n",
       "        237.04633],\n",
       "       ...,\n",
       "       [259.96396, 259.9695 , 259.9749 , ..., 259.9458 , 259.95203,\n",
       "        259.9581 ],\n",
       "       [259.7506 , 259.75223, 259.7538 , ..., 259.7453 , 259.74716,\n",
       "        259.74896],\n",
       "       [      nan,       nan,       nan, ...,       nan,       nan,\n",
       "              nan]], dtype=float32)\n",
       "Coordinates:\n",
       "  * lat           (lat) float64 -89.5 -88.5 -87.5 -86.5 ... 86.5 87.5 88.5 89.5\n",
       "  * lon           (lon) float64 0.5 1.5 2.5 3.5 4.5 ... 356.5 357.5 358.5 359.5\n",
       "    plev          float64 8.5e+04\n",
       "    day_of_month  int64 15\n",
       "    day_of_year   int64 183\n",
       "    month_number  int64 6\n",
       "    time          datetime64[ns] 2001-07-02\n",
       "    year          int64 2001\n",
       "Attributes:\n",
       "    standard_name:  air_temperature\n",
       "    long_name:      Air Temperature\n",
       "    units:          K\n",
       "    cell_methods:   time: mean time: mean"
      ]
     },
     "execution_count": 25,
     "metadata": {},
     "output_type": "execute_result"
    }
   ],
   "source": [
    "MPI_ta = MPI_ta.where(MPI_ta < 10**5)\n",
    "\n",
    "#You will see that those values have been converted to nan\n",
    "MPI_ta"
   ]
  },
  {
   "cell_type": "markdown",
   "metadata": {},
   "source": [
    "Now compute the following, \n",
    "\n",
    "**Global mean 850 hpa air temperature (ta):**"
   ]
  },
  {
   "cell_type": "code",
   "execution_count": 29,
   "metadata": {},
   "outputs": [
    {
     "data": {
      "text/plain": [
       "array([[      nan,       nan,       nan, ...,       nan,       nan,\n",
       "              nan],\n",
       "       [237.18837, 237.1806 , 237.17361, ..., 237.21652, 237.2063 ,\n",
       "        237.19691],\n",
       "       [237.00488, 236.96614, 236.93083, ..., 237.1378 , 237.09041,\n",
       "        237.04633],\n",
       "       ...,\n",
       "       [259.96396, 259.9695 , 259.9749 , ..., 259.9458 , 259.95203,\n",
       "        259.9581 ],\n",
       "       [259.7506 , 259.75223, 259.7538 , ..., 259.7453 , 259.74716,\n",
       "        259.74896],\n",
       "       [      nan,       nan,       nan, ...,       nan,       nan,\n",
       "              nan]], dtype=float32)"
      ]
     },
     "execution_count": 29,
     "metadata": {},
     "output_type": "execute_result"
    }
   ],
   "source": [
    "MPI_ta.data"
   ]
  },
  {
   "cell_type": "code",
   "execution_count": 51,
   "metadata": {},
   "outputs": [
    {
     "name": "stderr",
     "output_type": "stream",
     "text": [
      "/home/arcdap/miniconda3/envs/esmvaltool/lib/python3.7/site-packages/ipykernel_launcher.py:6: RuntimeWarning: Mean of empty slice\n",
      "  \n"
     ]
    },
    {
     "data": {
      "text/plain": [
       "280.5511875183395"
      ]
     },
     "execution_count": 51,
     "metadata": {},
     "output_type": "execute_result"
    }
   ],
   "source": [
    "# Same as before, unfortunately np.nanaverage does not exist, but nansum does, \n",
    "# so we'll just do the weighted average calculation in parts to ignore the \n",
    "# nan values. \n",
    "\n",
    "weights = np.cos(np.pi*MPI_2['lat'].data/180.)\n",
    "weighted_sum = np.nansum(np.nanmean(MPI_ta.data, axis=1)*weights)\n",
    "\n",
    "# You already know that the 1st and last rows are nan, so ignore those rows \n",
    "# when summing the weights with [1:-1]\n",
    "ta_avg = weighted_sum/np.sum(weights[1:-1])\n",
    "ta_avg"
   ]
  },
  {
   "cell_type": "markdown",
   "metadata": {},
   "source": [
    "---\n",
    "**Congratulations!** You’ve completed the starting tutorials for ESMValTool. You’ll now move on to computing more in-depth model evaluation with ESMValTool and Python.The subsequent exercises will be more difficult with less “hand-holding” involved. Nevertheless, feel free to approach our ESMValTool developers and experts if you’re stuck or facing any issues. Happy coding!\n",
    "\n",
    "\n",
    "---"
   ]
  },
  {
   "cell_type": "code",
   "execution_count": null,
   "metadata": {},
   "outputs": [],
   "source": [
    "# end of file, Gerald, last edited 21/1/2020."
   ]
  }
 ],
 "metadata": {
  "kernelspec": {
   "display_name": "Python 3",
   "language": "python",
   "name": "python3"
  },
  "language_info": {
   "codemirror_mode": {
    "name": "ipython",
    "version": 3
   },
   "file_extension": ".py",
   "mimetype": "text/x-python",
   "name": "python",
   "nbconvert_exporter": "python",
   "pygments_lexer": "ipython3",
   "version": "3.7.3"
  }
 },
 "nbformat": 4,
 "nbformat_minor": 4
}
